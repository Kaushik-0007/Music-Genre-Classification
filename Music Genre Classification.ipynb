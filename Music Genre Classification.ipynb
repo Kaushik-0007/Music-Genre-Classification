{
 "cells": [
  {
   "cell_type": "code",
   "execution_count": 1,
   "id": "8c68f0ce",
   "metadata": {
    "execution": {
     "iopub.execute_input": "2023-10-31T13:49:37.001688Z",
     "iopub.status.busy": "2023-10-31T13:49:37.001258Z",
     "iopub.status.idle": "2023-10-31T13:49:37.016955Z",
     "shell.execute_reply": "2023-10-31T13:49:37.015841Z"
    },
    "id": "iQu3mA5MGDEi",
    "papermill": {
     "duration": 0.033414,
     "end_time": "2023-10-31T13:49:37.020018",
     "exception": false,
     "start_time": "2023-10-31T13:49:36.986604",
     "status": "completed"
    },
    "tags": []
   },
   "outputs": [
    {
     "name": "stdout",
     "output_type": "stream",
     "text": [
      "/kaggle/input/pesurrcampusmicompetitionb/sample_submission.csv\n",
      "/kaggle/input/pesurrcampusmicompetitionb/train.csv\n",
      "/kaggle/input/pesurrcampusmicompetitionb/test.csv\n"
     ]
    }
   ],
   "source": [
    "# # # This Python 3 environment comes with many helpful analytics libraries installed\n",
    "# # # It is defined by the kaggle/python Docker image: https://github.com/kaggle/docker-python\n",
    "# # # For example, here's several helpful packages to load\n",
    "\n",
    "# # import numpy as np # linear algebra\n",
    "# # import pandas as pd # data processing, CSV file I/O (e.g. pd.read_csv)\n",
    "\n",
    "# # # Input data files are available in the read-only \"../input/\" directory\n",
    "# # # For example, running this (by clicking run or pressing Shift+Enter) will list all files under the input directory\n",
    "\n",
    "import os\n",
    "for dirname, _, filenames in os.walk('/kaggle/input'):\n",
    "  for filename in filenames:\n",
    "        print(os.path.join(dirname, filename))\n",
    "\n",
    "# # # You can write up to 20GB to the current directory (/kaggle/working/) that gets preserved as output when you create a version using \"Save & Run All\"\n",
    "# # # You can also write temporary files to /kaggle/temp/, but they won't be saved outside of the current session"
   ]
  },
  {
   "cell_type": "code",
   "execution_count": 2,
   "id": "97bd2084",
   "metadata": {
    "execution": {
     "iopub.execute_input": "2023-10-31T13:49:37.048868Z",
     "iopub.status.busy": "2023-10-31T13:49:37.047909Z",
     "iopub.status.idle": "2023-10-31T13:49:48.423446Z",
     "shell.execute_reply": "2023-10-31T13:49:48.422266Z"
    },
    "id": "nuKn59Fd-M5D",
    "papermill": {
     "duration": 11.393364,
     "end_time": "2023-10-31T13:49:48.426316",
     "exception": false,
     "start_time": "2023-10-31T13:49:37.032952",
     "status": "completed"
    },
    "tags": []
   },
   "outputs": [],
   "source": [
    "import numpy as np\n",
    "import pandas as pd\n",
    "import matplotlib.pyplot as plt\n",
    "import seaborn as sns\n",
    "from sklearn.model_selection import train_test_split\n",
    "from sklearn.preprocessing import StandardScaler,RobustScaler\n",
    "from keras.models import Sequential\n",
    "from keras.layers import Dense, Dropout\n",
    "from keras.optimizers import Adam\n",
    "from keras.layers import BatchNormalization\n",
    "from sklearn.metrics import accuracy_score\n",
    "from sklearn.preprocessing import LabelEncoder"
   ]
  },
  {
   "cell_type": "code",
   "execution_count": 3,
   "id": "825fc564",
   "metadata": {
    "execution": {
     "iopub.execute_input": "2023-10-31T13:49:48.453723Z",
     "iopub.status.busy": "2023-10-31T13:49:48.452983Z",
     "iopub.status.idle": "2023-10-31T13:49:48.772763Z",
     "shell.execute_reply": "2023-10-31T13:49:48.771494Z"
    },
    "id": "bsFJI4pxElXK",
    "outputId": "675573ca-81b8-428e-fb82-461d76415e8d",
    "papermill": {
     "duration": 0.336407,
     "end_time": "2023-10-31T13:49:48.775456",
     "exception": false,
     "start_time": "2023-10-31T13:49:48.439049",
     "status": "completed"
    },
    "tags": []
   },
   "outputs": [
    {
     "data": {
      "text/html": [
       "<div>\n",
       "<style scoped>\n",
       "    .dataframe tbody tr th:only-of-type {\n",
       "        vertical-align: middle;\n",
       "    }\n",
       "\n",
       "    .dataframe tbody tr th {\n",
       "        vertical-align: top;\n",
       "    }\n",
       "\n",
       "    .dataframe thead th {\n",
       "        text-align: right;\n",
       "    }\n",
       "</style>\n",
       "<table border=\"1\" class=\"dataframe\">\n",
       "  <thead>\n",
       "    <tr style=\"text-align: right;\">\n",
       "      <th></th>\n",
       "      <th>filename</th>\n",
       "      <th>length</th>\n",
       "      <th>chroma_stft_mean</th>\n",
       "      <th>chroma_stft_var</th>\n",
       "      <th>rms_mean</th>\n",
       "      <th>rms_var</th>\n",
       "      <th>spectral_centroid_mean</th>\n",
       "      <th>spectral_centroid_var</th>\n",
       "      <th>spectral_bandwidth_mean</th>\n",
       "      <th>spectral_bandwidth_var</th>\n",
       "      <th>...</th>\n",
       "      <th>mfcc16_var</th>\n",
       "      <th>mfcc17_mean</th>\n",
       "      <th>mfcc17_var</th>\n",
       "      <th>mfcc18_mean</th>\n",
       "      <th>mfcc18_var</th>\n",
       "      <th>mfcc19_mean</th>\n",
       "      <th>mfcc19_var</th>\n",
       "      <th>mfcc20_mean</th>\n",
       "      <th>mfcc20_var</th>\n",
       "      <th>label</th>\n",
       "    </tr>\n",
       "  </thead>\n",
       "  <tbody>\n",
       "    <tr>\n",
       "      <th>0</th>\n",
       "      <td>pop.00072.5.wav</td>\n",
       "      <td>66149</td>\n",
       "      <td>0.464264</td>\n",
       "      <td>0.079744</td>\n",
       "      <td>0.228116</td>\n",
       "      <td>0.007791</td>\n",
       "      <td>2156.231325</td>\n",
       "      <td>333455.342337</td>\n",
       "      <td>2295.327890</td>\n",
       "      <td>301528.295866</td>\n",
       "      <td>...</td>\n",
       "      <td>36.512493</td>\n",
       "      <td>0.587634</td>\n",
       "      <td>44.336262</td>\n",
       "      <td>3.168914</td>\n",
       "      <td>31.690376</td>\n",
       "      <td>0.719836</td>\n",
       "      <td>50.416603</td>\n",
       "      <td>-3.192938</td>\n",
       "      <td>25.115688</td>\n",
       "      <td>pop</td>\n",
       "    </tr>\n",
       "    <tr>\n",
       "      <th>1</th>\n",
       "      <td>jazz.00038.9.wav</td>\n",
       "      <td>66149</td>\n",
       "      <td>0.254604</td>\n",
       "      <td>0.090115</td>\n",
       "      <td>0.075960</td>\n",
       "      <td>0.002236</td>\n",
       "      <td>1439.715643</td>\n",
       "      <td>68955.697954</td>\n",
       "      <td>1532.279764</td>\n",
       "      <td>78968.523547</td>\n",
       "      <td>...</td>\n",
       "      <td>29.887444</td>\n",
       "      <td>-0.706779</td>\n",
       "      <td>105.123726</td>\n",
       "      <td>2.879812</td>\n",
       "      <td>157.346725</td>\n",
       "      <td>3.201282</td>\n",
       "      <td>71.674042</td>\n",
       "      <td>-1.664307</td>\n",
       "      <td>53.640949</td>\n",
       "      <td>jazz</td>\n",
       "    </tr>\n",
       "    <tr>\n",
       "      <th>2</th>\n",
       "      <td>disco.00055.3.wav</td>\n",
       "      <td>66149</td>\n",
       "      <td>0.488070</td>\n",
       "      <td>0.065943</td>\n",
       "      <td>0.119709</td>\n",
       "      <td>0.001558</td>\n",
       "      <td>2049.831819</td>\n",
       "      <td>132030.817465</td>\n",
       "      <td>2043.472368</td>\n",
       "      <td>71699.726714</td>\n",
       "      <td>...</td>\n",
       "      <td>29.158789</td>\n",
       "      <td>-4.570374</td>\n",
       "      <td>24.995367</td>\n",
       "      <td>-0.735507</td>\n",
       "      <td>33.519482</td>\n",
       "      <td>-2.301054</td>\n",
       "      <td>38.444759</td>\n",
       "      <td>6.482006</td>\n",
       "      <td>50.393089</td>\n",
       "      <td>disco</td>\n",
       "    </tr>\n",
       "    <tr>\n",
       "      <th>3</th>\n",
       "      <td>rock.00025.9.wav</td>\n",
       "      <td>66149</td>\n",
       "      <td>0.440747</td>\n",
       "      <td>0.071972</td>\n",
       "      <td>0.108535</td>\n",
       "      <td>0.001491</td>\n",
       "      <td>2237.056815</td>\n",
       "      <td>129862.001264</td>\n",
       "      <td>2070.706749</td>\n",
       "      <td>62747.206984</td>\n",
       "      <td>...</td>\n",
       "      <td>33.833458</td>\n",
       "      <td>-5.574619</td>\n",
       "      <td>29.497013</td>\n",
       "      <td>3.903063</td>\n",
       "      <td>18.930311</td>\n",
       "      <td>-2.205716</td>\n",
       "      <td>26.832264</td>\n",
       "      <td>0.551784</td>\n",
       "      <td>25.199505</td>\n",
       "      <td>rock</td>\n",
       "    </tr>\n",
       "    <tr>\n",
       "      <th>4</th>\n",
       "      <td>jazz.00013.4.wav</td>\n",
       "      <td>66149</td>\n",
       "      <td>0.369718</td>\n",
       "      <td>0.090648</td>\n",
       "      <td>0.052010</td>\n",
       "      <td>0.000124</td>\n",
       "      <td>1775.591113</td>\n",
       "      <td>66645.168399</td>\n",
       "      <td>2351.155395</td>\n",
       "      <td>51753.800714</td>\n",
       "      <td>...</td>\n",
       "      <td>48.042686</td>\n",
       "      <td>-3.686353</td>\n",
       "      <td>47.710155</td>\n",
       "      <td>3.593751</td>\n",
       "      <td>70.004326</td>\n",
       "      <td>0.011506</td>\n",
       "      <td>85.980957</td>\n",
       "      <td>1.892704</td>\n",
       "      <td>108.339722</td>\n",
       "      <td>jazz</td>\n",
       "    </tr>\n",
       "  </tbody>\n",
       "</table>\n",
       "<p>5 rows × 60 columns</p>\n",
       "</div>"
      ],
      "text/plain": [
       "            filename  length  chroma_stft_mean  chroma_stft_var  rms_mean  \\\n",
       "0    pop.00072.5.wav   66149          0.464264         0.079744  0.228116   \n",
       "1   jazz.00038.9.wav   66149          0.254604         0.090115  0.075960   \n",
       "2  disco.00055.3.wav   66149          0.488070         0.065943  0.119709   \n",
       "3   rock.00025.9.wav   66149          0.440747         0.071972  0.108535   \n",
       "4   jazz.00013.4.wav   66149          0.369718         0.090648  0.052010   \n",
       "\n",
       "    rms_var  spectral_centroid_mean  spectral_centroid_var  \\\n",
       "0  0.007791             2156.231325          333455.342337   \n",
       "1  0.002236             1439.715643           68955.697954   \n",
       "2  0.001558             2049.831819          132030.817465   \n",
       "3  0.001491             2237.056815          129862.001264   \n",
       "4  0.000124             1775.591113           66645.168399   \n",
       "\n",
       "   spectral_bandwidth_mean  spectral_bandwidth_var  ...  mfcc16_var  \\\n",
       "0              2295.327890           301528.295866  ...   36.512493   \n",
       "1              1532.279764            78968.523547  ...   29.887444   \n",
       "2              2043.472368            71699.726714  ...   29.158789   \n",
       "3              2070.706749            62747.206984  ...   33.833458   \n",
       "4              2351.155395            51753.800714  ...   48.042686   \n",
       "\n",
       "   mfcc17_mean  mfcc17_var  mfcc18_mean  mfcc18_var  mfcc19_mean  mfcc19_var  \\\n",
       "0     0.587634   44.336262     3.168914   31.690376     0.719836   50.416603   \n",
       "1    -0.706779  105.123726     2.879812  157.346725     3.201282   71.674042   \n",
       "2    -4.570374   24.995367    -0.735507   33.519482    -2.301054   38.444759   \n",
       "3    -5.574619   29.497013     3.903063   18.930311    -2.205716   26.832264   \n",
       "4    -3.686353   47.710155     3.593751   70.004326     0.011506   85.980957   \n",
       "\n",
       "   mfcc20_mean  mfcc20_var  label  \n",
       "0    -3.192938   25.115688    pop  \n",
       "1    -1.664307   53.640949   jazz  \n",
       "2     6.482006   50.393089  disco  \n",
       "3     0.551784   25.199505   rock  \n",
       "4     1.892704  108.339722   jazz  \n",
       "\n",
       "[5 rows x 60 columns]"
      ]
     },
     "execution_count": 3,
     "metadata": {},
     "output_type": "execute_result"
    }
   ],
   "source": [
    "data = pd.read_csv(\"/kaggle/input/pesurrcampusmicompetitionb/train.csv\")\n",
    "data.head()"
   ]
  },
  {
   "cell_type": "code",
   "execution_count": 4,
   "id": "15fc9ce5",
   "metadata": {
    "execution": {
     "iopub.execute_input": "2023-10-31T13:49:48.803838Z",
     "iopub.status.busy": "2023-10-31T13:49:48.803468Z",
     "iopub.status.idle": "2023-10-31T13:49:48.850689Z",
     "shell.execute_reply": "2023-10-31T13:49:48.849495Z"
    },
    "id": "NFOO-AK1LLgz",
    "outputId": "e25677c7-3316-450f-ccb8-2e7ec8787f43",
    "papermill": {
     "duration": 0.065062,
     "end_time": "2023-10-31T13:49:48.853817",
     "exception": false,
     "start_time": "2023-10-31T13:49:48.788755",
     "status": "completed"
    },
    "tags": []
   },
   "outputs": [
    {
     "name": "stdout",
     "output_type": "stream",
     "text": [
      "<class 'pandas.core.frame.DataFrame'>\n",
      "RangeIndex: 8991 entries, 0 to 8990\n",
      "Data columns (total 60 columns):\n",
      " #   Column                   Non-Null Count  Dtype  \n",
      "---  ------                   --------------  -----  \n",
      " 0   filename                 8991 non-null   object \n",
      " 1   length                   8991 non-null   int64  \n",
      " 2   chroma_stft_mean         8991 non-null   float64\n",
      " 3   chroma_stft_var          8991 non-null   float64\n",
      " 4   rms_mean                 8991 non-null   float64\n",
      " 5   rms_var                  8991 non-null   float64\n",
      " 6   spectral_centroid_mean   8991 non-null   float64\n",
      " 7   spectral_centroid_var    8991 non-null   float64\n",
      " 8   spectral_bandwidth_mean  8991 non-null   float64\n",
      " 9   spectral_bandwidth_var   8991 non-null   float64\n",
      " 10  rolloff_mean             8991 non-null   float64\n",
      " 11  rolloff_var              8991 non-null   float64\n",
      " 12  zero_crossing_rate_mean  8991 non-null   float64\n",
      " 13  zero_crossing_rate_var   8991 non-null   float64\n",
      " 14  harmony_mean             8991 non-null   float64\n",
      " 15  harmony_var              8991 non-null   float64\n",
      " 16  perceptr_mean            8991 non-null   float64\n",
      " 17  perceptr_var             8991 non-null   float64\n",
      " 18  tempo                    8991 non-null   float64\n",
      " 19  mfcc1_mean               8991 non-null   float64\n",
      " 20  mfcc1_var                8991 non-null   float64\n",
      " 21  mfcc2_mean               8991 non-null   float64\n",
      " 22  mfcc2_var                8991 non-null   float64\n",
      " 23  mfcc3_mean               8991 non-null   float64\n",
      " 24  mfcc3_var                8991 non-null   float64\n",
      " 25  mfcc4_mean               8991 non-null   float64\n",
      " 26  mfcc4_var                8991 non-null   float64\n",
      " 27  mfcc5_mean               8991 non-null   float64\n",
      " 28  mfcc5_var                8991 non-null   float64\n",
      " 29  mfcc6_mean               8991 non-null   float64\n",
      " 30  mfcc6_var                8991 non-null   float64\n",
      " 31  mfcc7_mean               8991 non-null   float64\n",
      " 32  mfcc7_var                8991 non-null   float64\n",
      " 33  mfcc8_mean               8991 non-null   float64\n",
      " 34  mfcc8_var                8991 non-null   float64\n",
      " 35  mfcc9_mean               8991 non-null   float64\n",
      " 36  mfcc9_var                8991 non-null   float64\n",
      " 37  mfcc10_mean              8991 non-null   float64\n",
      " 38  mfcc10_var               8991 non-null   float64\n",
      " 39  mfcc11_mean              8991 non-null   float64\n",
      " 40  mfcc11_var               8991 non-null   float64\n",
      " 41  mfcc12_mean              8991 non-null   float64\n",
      " 42  mfcc12_var               8991 non-null   float64\n",
      " 43  mfcc13_mean              8991 non-null   float64\n",
      " 44  mfcc13_var               8991 non-null   float64\n",
      " 45  mfcc14_mean              8991 non-null   float64\n",
      " 46  mfcc14_var               8991 non-null   float64\n",
      " 47  mfcc15_mean              8991 non-null   float64\n",
      " 48  mfcc15_var               8991 non-null   float64\n",
      " 49  mfcc16_mean              8991 non-null   float64\n",
      " 50  mfcc16_var               8991 non-null   float64\n",
      " 51  mfcc17_mean              8991 non-null   float64\n",
      " 52  mfcc17_var               8991 non-null   float64\n",
      " 53  mfcc18_mean              8991 non-null   float64\n",
      " 54  mfcc18_var               8991 non-null   float64\n",
      " 55  mfcc19_mean              8991 non-null   float64\n",
      " 56  mfcc19_var               8991 non-null   float64\n",
      " 57  mfcc20_mean              8991 non-null   float64\n",
      " 58  mfcc20_var               8991 non-null   float64\n",
      " 59  label                    8991 non-null   object \n",
      "dtypes: float64(57), int64(1), object(2)\n",
      "memory usage: 4.1+ MB\n"
     ]
    }
   ],
   "source": [
    "data.info()"
   ]
  },
  {
   "cell_type": "code",
   "execution_count": 5,
   "id": "4d9bfbf5",
   "metadata": {
    "execution": {
     "iopub.execute_input": "2023-10-31T13:49:48.882252Z",
     "iopub.status.busy": "2023-10-31T13:49:48.881830Z",
     "iopub.status.idle": "2023-10-31T13:49:49.065351Z",
     "shell.execute_reply": "2023-10-31T13:49:49.064279Z"
    },
    "id": "-t761PXYLOwR",
    "outputId": "fd70c67d-ac50-4729-8104-f196344d57e9",
    "papermill": {
     "duration": 0.200604,
     "end_time": "2023-10-31T13:49:49.067735",
     "exception": false,
     "start_time": "2023-10-31T13:49:48.867131",
     "status": "completed"
    },
    "tags": []
   },
   "outputs": [
    {
     "data": {
      "text/html": [
       "<div>\n",
       "<style scoped>\n",
       "    .dataframe tbody tr th:only-of-type {\n",
       "        vertical-align: middle;\n",
       "    }\n",
       "\n",
       "    .dataframe tbody tr th {\n",
       "        vertical-align: top;\n",
       "    }\n",
       "\n",
       "    .dataframe thead th {\n",
       "        text-align: right;\n",
       "    }\n",
       "</style>\n",
       "<table border=\"1\" class=\"dataframe\">\n",
       "  <thead>\n",
       "    <tr style=\"text-align: right;\">\n",
       "      <th></th>\n",
       "      <th>length</th>\n",
       "      <th>chroma_stft_mean</th>\n",
       "      <th>chroma_stft_var</th>\n",
       "      <th>rms_mean</th>\n",
       "      <th>rms_var</th>\n",
       "      <th>spectral_centroid_mean</th>\n",
       "      <th>spectral_centroid_var</th>\n",
       "      <th>spectral_bandwidth_mean</th>\n",
       "      <th>spectral_bandwidth_var</th>\n",
       "      <th>rolloff_mean</th>\n",
       "      <th>...</th>\n",
       "      <th>mfcc16_mean</th>\n",
       "      <th>mfcc16_var</th>\n",
       "      <th>mfcc17_mean</th>\n",
       "      <th>mfcc17_var</th>\n",
       "      <th>mfcc18_mean</th>\n",
       "      <th>mfcc18_var</th>\n",
       "      <th>mfcc19_mean</th>\n",
       "      <th>mfcc19_var</th>\n",
       "      <th>mfcc20_mean</th>\n",
       "      <th>mfcc20_var</th>\n",
       "    </tr>\n",
       "  </thead>\n",
       "  <tbody>\n",
       "    <tr>\n",
       "      <th>count</th>\n",
       "      <td>8991.0</td>\n",
       "      <td>8991.000000</td>\n",
       "      <td>8991.000000</td>\n",
       "      <td>8991.000000</td>\n",
       "      <td>8.991000e+03</td>\n",
       "      <td>8991.000000</td>\n",
       "      <td>8.991000e+03</td>\n",
       "      <td>8991.000000</td>\n",
       "      <td>8.991000e+03</td>\n",
       "      <td>8991.000000</td>\n",
       "      <td>...</td>\n",
       "      <td>8991.000000</td>\n",
       "      <td>8991.000000</td>\n",
       "      <td>8991.000000</td>\n",
       "      <td>8991.000000</td>\n",
       "      <td>8991.000000</td>\n",
       "      <td>8991.000000</td>\n",
       "      <td>8991.000000</td>\n",
       "      <td>8991.000000</td>\n",
       "      <td>8991.000000</td>\n",
       "      <td>8991.000000</td>\n",
       "    </tr>\n",
       "    <tr>\n",
       "      <th>mean</th>\n",
       "      <td>66149.0</td>\n",
       "      <td>0.379429</td>\n",
       "      <td>0.084906</td>\n",
       "      <td>0.131079</td>\n",
       "      <td>2.692355e-03</td>\n",
       "      <td>2202.499294</td>\n",
       "      <td>4.180213e+05</td>\n",
       "      <td>2243.675807</td>\n",
       "      <td>1.182854e+05</td>\n",
       "      <td>4573.851725</td>\n",
       "      <td>...</td>\n",
       "      <td>1.447258</td>\n",
       "      <td>49.903670</td>\n",
       "      <td>-4.167124</td>\n",
       "      <td>52.012612</td>\n",
       "      <td>0.762790</td>\n",
       "      <td>52.587622</td>\n",
       "      <td>-2.493215</td>\n",
       "      <td>55.144385</td>\n",
       "      <td>-0.909010</td>\n",
       "      <td>57.501708</td>\n",
       "    </tr>\n",
       "    <tr>\n",
       "      <th>std</th>\n",
       "      <td>0.0</td>\n",
       "      <td>0.090370</td>\n",
       "      <td>0.009649</td>\n",
       "      <td>0.068530</td>\n",
       "      <td>3.609881e-03</td>\n",
       "      <td>755.453076</td>\n",
       "      <td>4.368142e+05</td>\n",
       "      <td>546.167312</td>\n",
       "      <td>1.015757e+05</td>\n",
       "      <td>1648.815846</td>\n",
       "      <td>...</td>\n",
       "      <td>5.751630</td>\n",
       "      <td>33.659602</td>\n",
       "      <td>5.697644</td>\n",
       "      <td>36.159784</td>\n",
       "      <td>5.191410</td>\n",
       "      <td>38.360354</td>\n",
       "      <td>5.127533</td>\n",
       "      <td>41.979298</td>\n",
       "      <td>5.286712</td>\n",
       "      <td>46.882536</td>\n",
       "    </tr>\n",
       "    <tr>\n",
       "      <th>min</th>\n",
       "      <td>66149.0</td>\n",
       "      <td>0.107108</td>\n",
       "      <td>0.015345</td>\n",
       "      <td>0.000953</td>\n",
       "      <td>4.379535e-08</td>\n",
       "      <td>472.741636</td>\n",
       "      <td>8.118813e+02</td>\n",
       "      <td>499.162910</td>\n",
       "      <td>1.183520e+03</td>\n",
       "      <td>658.336276</td>\n",
       "      <td>...</td>\n",
       "      <td>-26.850016</td>\n",
       "      <td>1.325786</td>\n",
       "      <td>-24.810783</td>\n",
       "      <td>1.624544</td>\n",
       "      <td>-20.733809</td>\n",
       "      <td>3.437439</td>\n",
       "      <td>-23.676704</td>\n",
       "      <td>3.065302</td>\n",
       "      <td>-35.640659</td>\n",
       "      <td>0.282131</td>\n",
       "    </tr>\n",
       "    <tr>\n",
       "      <th>25%</th>\n",
       "      <td>66149.0</td>\n",
       "      <td>0.315718</td>\n",
       "      <td>0.079894</td>\n",
       "      <td>0.083768</td>\n",
       "      <td>6.191782e-04</td>\n",
       "      <td>1630.687076</td>\n",
       "      <td>1.232141e+05</td>\n",
       "      <td>1887.668895</td>\n",
       "      <td>4.872991e+04</td>\n",
       "      <td>3385.889141</td>\n",
       "      <td>...</td>\n",
       "      <td>-2.234193</td>\n",
       "      <td>29.608310</td>\n",
       "      <td>-7.948629</td>\n",
       "      <td>29.862267</td>\n",
       "      <td>-2.445160</td>\n",
       "      <td>29.669745</td>\n",
       "      <td>-5.734310</td>\n",
       "      <td>30.503081</td>\n",
       "      <td>-4.015092</td>\n",
       "      <td>30.086961</td>\n",
       "    </tr>\n",
       "    <tr>\n",
       "      <th>50%</th>\n",
       "      <td>66149.0</td>\n",
       "      <td>0.384857</td>\n",
       "      <td>0.085147</td>\n",
       "      <td>0.121635</td>\n",
       "      <td>1.496367e-03</td>\n",
       "      <td>2209.805128</td>\n",
       "      <td>2.666254e+05</td>\n",
       "      <td>2232.301304</td>\n",
       "      <td>8.992711e+04</td>\n",
       "      <td>4636.595553</td>\n",
       "      <td>...</td>\n",
       "      <td>1.488159</td>\n",
       "      <td>41.794029</td>\n",
       "      <td>-4.412789</td>\n",
       "      <td>42.266727</td>\n",
       "      <td>0.768402</td>\n",
       "      <td>41.915512</td>\n",
       "      <td>-2.699601</td>\n",
       "      <td>43.447445</td>\n",
       "      <td>-1.033373</td>\n",
       "      <td>44.516968</td>\n",
       "    </tr>\n",
       "    <tr>\n",
       "      <th>75%</th>\n",
       "      <td>66149.0</td>\n",
       "      <td>0.442305</td>\n",
       "      <td>0.091105</td>\n",
       "      <td>0.176834</td>\n",
       "      <td>3.168995e-03</td>\n",
       "      <td>2717.143710</td>\n",
       "      <td>5.636267e+05</td>\n",
       "      <td>2595.771961</td>\n",
       "      <td>1.587088e+05</td>\n",
       "      <td>5604.802903</td>\n",
       "      <td>...</td>\n",
       "      <td>5.142493</td>\n",
       "      <td>59.088749</td>\n",
       "      <td>-0.697015</td>\n",
       "      <td>61.809235</td>\n",
       "      <td>3.902450</td>\n",
       "      <td>62.243496</td>\n",
       "      <td>0.516225</td>\n",
       "      <td>65.669441</td>\n",
       "      <td>2.218058</td>\n",
       "      <td>68.463200</td>\n",
       "    </tr>\n",
       "    <tr>\n",
       "      <th>max</th>\n",
       "      <td>66149.0</td>\n",
       "      <td>0.749481</td>\n",
       "      <td>0.120964</td>\n",
       "      <td>0.442567</td>\n",
       "      <td>3.261522e-02</td>\n",
       "      <td>5432.534406</td>\n",
       "      <td>4.794119e+06</td>\n",
       "      <td>3708.147554</td>\n",
       "      <td>1.235143e+06</td>\n",
       "      <td>9487.446477</td>\n",
       "      <td>...</td>\n",
       "      <td>39.144405</td>\n",
       "      <td>683.932556</td>\n",
       "      <td>34.048843</td>\n",
       "      <td>434.345642</td>\n",
       "      <td>36.970322</td>\n",
       "      <td>629.729797</td>\n",
       "      <td>31.365425</td>\n",
       "      <td>1143.230591</td>\n",
       "      <td>34.212101</td>\n",
       "      <td>910.473206</td>\n",
       "    </tr>\n",
       "  </tbody>\n",
       "</table>\n",
       "<p>8 rows × 58 columns</p>\n",
       "</div>"
      ],
      "text/plain": [
       "        length  chroma_stft_mean  chroma_stft_var     rms_mean       rms_var  \\\n",
       "count   8991.0       8991.000000      8991.000000  8991.000000  8.991000e+03   \n",
       "mean   66149.0          0.379429         0.084906     0.131079  2.692355e-03   \n",
       "std        0.0          0.090370         0.009649     0.068530  3.609881e-03   \n",
       "min    66149.0          0.107108         0.015345     0.000953  4.379535e-08   \n",
       "25%    66149.0          0.315718         0.079894     0.083768  6.191782e-04   \n",
       "50%    66149.0          0.384857         0.085147     0.121635  1.496367e-03   \n",
       "75%    66149.0          0.442305         0.091105     0.176834  3.168995e-03   \n",
       "max    66149.0          0.749481         0.120964     0.442567  3.261522e-02   \n",
       "\n",
       "       spectral_centroid_mean  spectral_centroid_var  spectral_bandwidth_mean  \\\n",
       "count             8991.000000           8.991000e+03              8991.000000   \n",
       "mean              2202.499294           4.180213e+05              2243.675807   \n",
       "std                755.453076           4.368142e+05               546.167312   \n",
       "min                472.741636           8.118813e+02               499.162910   \n",
       "25%               1630.687076           1.232141e+05              1887.668895   \n",
       "50%               2209.805128           2.666254e+05              2232.301304   \n",
       "75%               2717.143710           5.636267e+05              2595.771961   \n",
       "max               5432.534406           4.794119e+06              3708.147554   \n",
       "\n",
       "       spectral_bandwidth_var  rolloff_mean  ...  mfcc16_mean   mfcc16_var  \\\n",
       "count            8.991000e+03   8991.000000  ...  8991.000000  8991.000000   \n",
       "mean             1.182854e+05   4573.851725  ...     1.447258    49.903670   \n",
       "std              1.015757e+05   1648.815846  ...     5.751630    33.659602   \n",
       "min              1.183520e+03    658.336276  ...   -26.850016     1.325786   \n",
       "25%              4.872991e+04   3385.889141  ...    -2.234193    29.608310   \n",
       "50%              8.992711e+04   4636.595553  ...     1.488159    41.794029   \n",
       "75%              1.587088e+05   5604.802903  ...     5.142493    59.088749   \n",
       "max              1.235143e+06   9487.446477  ...    39.144405   683.932556   \n",
       "\n",
       "       mfcc17_mean   mfcc17_var  mfcc18_mean   mfcc18_var  mfcc19_mean  \\\n",
       "count  8991.000000  8991.000000  8991.000000  8991.000000  8991.000000   \n",
       "mean     -4.167124    52.012612     0.762790    52.587622    -2.493215   \n",
       "std       5.697644    36.159784     5.191410    38.360354     5.127533   \n",
       "min     -24.810783     1.624544   -20.733809     3.437439   -23.676704   \n",
       "25%      -7.948629    29.862267    -2.445160    29.669745    -5.734310   \n",
       "50%      -4.412789    42.266727     0.768402    41.915512    -2.699601   \n",
       "75%      -0.697015    61.809235     3.902450    62.243496     0.516225   \n",
       "max      34.048843   434.345642    36.970322   629.729797    31.365425   \n",
       "\n",
       "        mfcc19_var  mfcc20_mean   mfcc20_var  \n",
       "count  8991.000000  8991.000000  8991.000000  \n",
       "mean     55.144385    -0.909010    57.501708  \n",
       "std      41.979298     5.286712    46.882536  \n",
       "min       3.065302   -35.640659     0.282131  \n",
       "25%      30.503081    -4.015092    30.086961  \n",
       "50%      43.447445    -1.033373    44.516968  \n",
       "75%      65.669441     2.218058    68.463200  \n",
       "max    1143.230591    34.212101   910.473206  \n",
       "\n",
       "[8 rows x 58 columns]"
      ]
     },
     "execution_count": 5,
     "metadata": {},
     "output_type": "execute_result"
    }
   ],
   "source": [
    "data.describe()"
   ]
  },
  {
   "cell_type": "code",
   "execution_count": 6,
   "id": "24952d83",
   "metadata": {
    "execution": {
     "iopub.execute_input": "2023-10-31T13:49:49.098638Z",
     "iopub.status.busy": "2023-10-31T13:49:49.098217Z",
     "iopub.status.idle": "2023-10-31T13:49:49.110352Z",
     "shell.execute_reply": "2023-10-31T13:49:49.109284Z"
    },
    "id": "ecnI7_aHLQRp",
    "outputId": "f914dc9b-9f10-4f95-e120-3848ebabc0d4",
    "papermill": {
     "duration": 0.031151,
     "end_time": "2023-10-31T13:49:49.112742",
     "exception": false,
     "start_time": "2023-10-31T13:49:49.081591",
     "status": "completed"
    },
    "tags": []
   },
   "outputs": [
    {
     "data": {
      "text/plain": [
       "filename                   0\n",
       "length                     0\n",
       "chroma_stft_mean           0\n",
       "chroma_stft_var            0\n",
       "rms_mean                   0\n",
       "rms_var                    0\n",
       "spectral_centroid_mean     0\n",
       "spectral_centroid_var      0\n",
       "spectral_bandwidth_mean    0\n",
       "spectral_bandwidth_var     0\n",
       "rolloff_mean               0\n",
       "rolloff_var                0\n",
       "zero_crossing_rate_mean    0\n",
       "zero_crossing_rate_var     0\n",
       "harmony_mean               0\n",
       "harmony_var                0\n",
       "perceptr_mean              0\n",
       "perceptr_var               0\n",
       "tempo                      0\n",
       "mfcc1_mean                 0\n",
       "mfcc1_var                  0\n",
       "mfcc2_mean                 0\n",
       "mfcc2_var                  0\n",
       "mfcc3_mean                 0\n",
       "mfcc3_var                  0\n",
       "mfcc4_mean                 0\n",
       "mfcc4_var                  0\n",
       "mfcc5_mean                 0\n",
       "mfcc5_var                  0\n",
       "mfcc6_mean                 0\n",
       "mfcc6_var                  0\n",
       "mfcc7_mean                 0\n",
       "mfcc7_var                  0\n",
       "mfcc8_mean                 0\n",
       "mfcc8_var                  0\n",
       "mfcc9_mean                 0\n",
       "mfcc9_var                  0\n",
       "mfcc10_mean                0\n",
       "mfcc10_var                 0\n",
       "mfcc11_mean                0\n",
       "mfcc11_var                 0\n",
       "mfcc12_mean                0\n",
       "mfcc12_var                 0\n",
       "mfcc13_mean                0\n",
       "mfcc13_var                 0\n",
       "mfcc14_mean                0\n",
       "mfcc14_var                 0\n",
       "mfcc15_mean                0\n",
       "mfcc15_var                 0\n",
       "mfcc16_mean                0\n",
       "mfcc16_var                 0\n",
       "mfcc17_mean                0\n",
       "mfcc17_var                 0\n",
       "mfcc18_mean                0\n",
       "mfcc18_var                 0\n",
       "mfcc19_mean                0\n",
       "mfcc19_var                 0\n",
       "mfcc20_mean                0\n",
       "mfcc20_var                 0\n",
       "label                      0\n",
       "dtype: int64"
      ]
     },
     "execution_count": 6,
     "metadata": {},
     "output_type": "execute_result"
    }
   ],
   "source": [
    "data.isna().sum()"
   ]
  },
  {
   "cell_type": "code",
   "execution_count": 7,
   "id": "b22a9c47",
   "metadata": {
    "execution": {
     "iopub.execute_input": "2023-10-31T13:49:49.142316Z",
     "iopub.status.busy": "2023-10-31T13:49:49.141938Z",
     "iopub.status.idle": "2023-10-31T13:49:49.149957Z",
     "shell.execute_reply": "2023-10-31T13:49:49.148922Z"
    },
    "id": "CoPFyIbFUpKa",
    "outputId": "b284c079-816c-44bd-ab7f-1f6ff0156c05",
    "papermill": {
     "duration": 0.02605,
     "end_time": "2023-10-31T13:49:49.152956",
     "exception": false,
     "start_time": "2023-10-31T13:49:49.126906",
     "status": "completed"
    },
    "tags": []
   },
   "outputs": [
    {
     "name": "stdout",
     "output_type": "stream",
     "text": [
      "label\n",
      "pop          900\n",
      "jazz         900\n",
      "blues        900\n",
      "reggae       900\n",
      "metal        900\n",
      "disco        899\n",
      "rock         898\n",
      "country      898\n",
      "hiphop       898\n",
      "classical    898\n",
      "Name: count, dtype: int64\n"
     ]
    }
   ],
   "source": [
    "print(data[\"label\"].value_counts())"
   ]
  },
  {
   "cell_type": "code",
   "execution_count": 8,
   "id": "d7c2a0c3",
   "metadata": {
    "execution": {
     "iopub.execute_input": "2023-10-31T13:49:49.183141Z",
     "iopub.status.busy": "2023-10-31T13:49:49.182738Z",
     "iopub.status.idle": "2023-10-31T13:49:49.499473Z",
     "shell.execute_reply": "2023-10-31T13:49:49.498179Z"
    },
    "id": "yNjK1Ti4MpFF",
    "outputId": "ccc51f12-bfd6-4ac7-d4e4-c8684cdae896",
    "papermill": {
     "duration": 0.334665,
     "end_time": "2023-10-31T13:49:49.501967",
     "exception": false,
     "start_time": "2023-10-31T13:49:49.167302",
     "status": "completed"
    },
    "tags": []
   },
   "outputs": [
    {
     "data": {
      "text/plain": [
       "(array([900., 900., 899., 898., 900., 900., 900., 898., 898., 898.]),\n",
       " array([0. , 0.9, 1.8, 2.7, 3.6, 4.5, 5.4, 6.3, 7.2, 8.1, 9. ]),\n",
       " <BarContainer object of 10 artists>)"
      ]
     },
     "execution_count": 8,
     "metadata": {},
     "output_type": "execute_result"
    },
    {
     "data": {
      "image/png": "[encoded data removed]",
      "text/plain": [
       "<Figure size 640x480 with 1 Axes>"
      ]
     },
     "metadata": {},
     "output_type": "display_data"
    }
   ],
   "source": [
    "plt.hist(data[\"label\"],rwidth=0.7)"
   ]
  },
  {
   "cell_type": "markdown",
   "id": "6dd63f19",
   "metadata": {
    "id": "CDuuF0FsLTZe",
    "papermill": {
     "duration": 0.014487,
     "end_time": "2023-10-31T13:49:49.531690",
     "exception": false,
     "start_time": "2023-10-31T13:49:49.517203",
     "status": "completed"
    },
    "tags": []
   },
   "source": [
    "# Data Preprocessing"
   ]
  },
  {
   "cell_type": "code",
   "execution_count": 9,
   "id": "0694c38c",
   "metadata": {
    "execution": {
     "iopub.execute_input": "2023-10-31T13:49:49.563097Z",
     "iopub.status.busy": "2023-10-31T13:49:49.562708Z",
     "iopub.status.idle": "2023-10-31T13:49:49.572913Z",
     "shell.execute_reply": "2023-10-31T13:49:49.571644Z"
    },
    "id": "B60ancFwEvdn",
    "papermill": {
     "duration": 0.028632,
     "end_time": "2023-10-31T13:49:49.575221",
     "exception": false,
     "start_time": "2023-10-31T13:49:49.546589",
     "status": "completed"
    },
    "tags": []
   },
   "outputs": [],
   "source": [
    "X = data.iloc[:, 2:-1].values\n",
    "y = data.iloc[:, -1].values\n"
   ]
  },
  {
   "cell_type": "code",
   "execution_count": 10,
   "id": "ca8bdea9",
   "metadata": {
    "execution": {
     "iopub.execute_input": "2023-10-31T13:49:49.606734Z",
     "iopub.status.busy": "2023-10-31T13:49:49.606288Z",
     "iopub.status.idle": "2023-10-31T13:49:49.614586Z",
     "shell.execute_reply": "2023-10-31T13:49:49.613465Z"
    },
    "id": "ft7kH3jdExZr",
    "papermill": {
     "duration": 0.02683,
     "end_time": "2023-10-31T13:49:49.616898",
     "exception": false,
     "start_time": "2023-10-31T13:49:49.590068",
     "status": "completed"
    },
    "tags": []
   },
   "outputs": [],
   "source": [
    "le = LabelEncoder()\n",
    "y = le.fit_transform(y)\n"
   ]
  },
  {
   "cell_type": "markdown",
   "id": "416a68ab",
   "metadata": {
    "id": "7_BNi6TsLW7v",
    "papermill": {
     "duration": 0.01433,
     "end_time": "2023-10-31T13:49:49.646533",
     "exception": false,
     "start_time": "2023-10-31T13:49:49.632203",
     "status": "completed"
    },
    "tags": []
   },
   "source": [
    "# Spliting the dataset to train and test"
   ]
  },
  {
   "cell_type": "code",
   "execution_count": 11,
   "id": "ddc1214c",
   "metadata": {
    "execution": {
     "iopub.execute_input": "2023-10-31T13:49:49.677433Z",
     "iopub.status.busy": "2023-10-31T13:49:49.677017Z",
     "iopub.status.idle": "2023-10-31T13:49:49.693273Z",
     "shell.execute_reply": "2023-10-31T13:49:49.692469Z"
    },
    "id": "g-J7C0G7E0cY",
    "papermill": {
     "duration": 0.034604,
     "end_time": "2023-10-31T13:49:49.695698",
     "exception": false,
     "start_time": "2023-10-31T13:49:49.661094",
     "status": "completed"
    },
    "tags": []
   },
   "outputs": [],
   "source": [
    "X_train, X_test, y_train, y_test = train_test_split(X, y, test_size=0.2, random_state=42, stratify=y)\n"
   ]
  },
  {
   "cell_type": "code",
   "execution_count": 12,
   "id": "5bd105c7",
   "metadata": {
    "execution": {
     "iopub.execute_input": "2023-10-31T13:49:49.726678Z",
     "iopub.status.busy": "2023-10-31T13:49:49.726255Z",
     "iopub.status.idle": "2023-10-31T13:49:49.771254Z",
     "shell.execute_reply": "2023-10-31T13:49:49.770301Z"
    },
    "id": "Ilw2rnRJE2Q_",
    "papermill": {
     "duration": 0.063668,
     "end_time": "2023-10-31T13:49:49.773991",
     "exception": false,
     "start_time": "2023-10-31T13:49:49.710323",
     "status": "completed"
    },
    "tags": []
   },
   "outputs": [],
   "source": [
    "scaler = RobustScaler()\n",
    "X_train = scaler.fit_transform(X_train)\n",
    "X_test = scaler.transform(X_test)"
   ]
  },
  {
   "cell_type": "markdown",
   "id": "5c462b6c",
   "metadata": {
    "id": "Uid2GnmxMVnf",
    "papermill": {
     "duration": 0.014165,
     "end_time": "2023-10-31T13:49:49.802925",
     "exception": false,
     "start_time": "2023-10-31T13:49:49.788760",
     "status": "completed"
    },
    "tags": []
   },
   "source": [
    "# Building the ANN Model"
   ]
  },
  {
   "cell_type": "code",
   "execution_count": 13,
   "id": "e5172f8f",
   "metadata": {
    "execution": {
     "iopub.execute_input": "2023-10-31T13:49:49.834541Z",
     "iopub.status.busy": "2023-10-31T13:49:49.833883Z",
     "iopub.status.idle": "2023-10-31T13:49:49.963187Z",
     "shell.execute_reply": "2023-10-31T13:49:49.961875Z"
    },
    "id": "QUT2eWjYE5bd",
    "papermill": {
     "duration": 0.147941,
     "end_time": "2023-10-31T13:49:49.965964",
     "exception": false,
     "start_time": "2023-10-31T13:49:49.818023",
     "status": "completed"
    },
    "tags": []
   },
   "outputs": [],
   "source": [
    "model = Sequential()\n",
    "model.add(Dense(units = 512,activation='relu'))\n",
    "model.add(Dropout(0.5))\n",
    "model.add(Dense(units = 256, activation='relu'))\n",
    "model.add(Dropout(0.5))\n",
    "model.add(Dense(units = 128, activation='relu'))\n",
    "model.add(Dropout(0.5))\n",
    "model.add(Dense(units = 64, activation='relu'))\n",
    "model.add(Dense(units = 10, activation='softmax'))\n"
   ]
  },
  {
   "cell_type": "code",
   "execution_count": 14,
   "id": "166d0037",
   "metadata": {
    "execution": {
     "iopub.execute_input": "2023-10-31T13:49:49.997341Z",
     "iopub.status.busy": "2023-10-31T13:49:49.996676Z",
     "iopub.status.idle": "2023-10-31T13:49:50.027735Z",
     "shell.execute_reply": "2023-10-31T13:49:50.026578Z"
    },
    "id": "tshSveF0E7hS",
    "papermill": {
     "duration": 0.049716,
     "end_time": "2023-10-31T13:49:50.030398",
     "exception": false,
     "start_time": "2023-10-31T13:49:49.980682",
     "status": "completed"
    },
    "tags": []
   },
   "outputs": [],
   "source": [
    "model.compile(loss='sparse_categorical_crossentropy', optimizer = Adam(learning_rate=0.001), metrics=['accuracy'])"
   ]
  },
  {
   "cell_type": "code",
   "execution_count": 15,
   "id": "dbbb20a5",
   "metadata": {
    "execution": {
     "iopub.execute_input": "2023-10-31T13:49:50.062495Z",
     "iopub.status.busy": "2023-10-31T13:49:50.061233Z",
     "iopub.status.idle": "2023-10-31T13:52:22.563877Z",
     "shell.execute_reply": "2023-10-31T13:52:22.562968Z"
    },
    "id": "Rw6vh_sBE95u",
    "outputId": "e1f128c0-f937-4cdf-fdd9-cfc4a06199c1",
    "papermill": {
     "duration": 152.521,
     "end_time": "2023-10-31T13:52:22.566180",
     "exception": false,
     "start_time": "2023-10-31T13:49:50.045180",
     "status": "completed"
    },
    "tags": []
   },
   "outputs": [
    {
     "name": "stdout",
     "output_type": "stream",
     "text": [
      "Epoch 1/100\n",
      "427/427 [==============================] - 3s 4ms/step - loss: 1.8965 - accuracy: 0.3391 - val_loss: 1.3164 - val_accuracy: 0.5306\n",
      "Epoch 2/100\n",
      "427/427 [==============================] - 1s 3ms/step - loss: 1.4212 - accuracy: 0.4990 - val_loss: 1.0631 - val_accuracy: 0.6500\n",
      "Epoch 3/100\n",
      "427/427 [==============================] - 1s 3ms/step - loss: 1.2378 - accuracy: 0.5783 - val_loss: 0.9411 - val_accuracy: 0.6806\n",
      "Epoch 4/100\n",
      "427/427 [==============================] - 1s 3ms/step - loss: 1.0963 - accuracy: 0.6266 - val_loss: 0.8553 - val_accuracy: 0.7000\n",
      "Epoch 5/100\n",
      "427/427 [==============================] - 1s 4ms/step - loss: 1.0006 - accuracy: 0.6653 - val_loss: 0.8117 - val_accuracy: 0.7222\n",
      "Epoch 6/100\n",
      "427/427 [==============================] - 1s 3ms/step - loss: 0.9500 - accuracy: 0.6907 - val_loss: 0.7454 - val_accuracy: 0.7556\n",
      "Epoch 7/100\n",
      "427/427 [==============================] - 1s 3ms/step - loss: 0.8867 - accuracy: 0.7138 - val_loss: 0.7048 - val_accuracy: 0.7861\n",
      "Epoch 8/100\n",
      "427/427 [==============================] - 1s 3ms/step - loss: 0.8318 - accuracy: 0.7251 - val_loss: 0.6470 - val_accuracy: 0.7972\n",
      "Epoch 9/100\n",
      "427/427 [==============================] - 1s 3ms/step - loss: 0.7837 - accuracy: 0.7490 - val_loss: 0.6354 - val_accuracy: 0.8083\n",
      "Epoch 10/100\n",
      "427/427 [==============================] - 1s 3ms/step - loss: 0.7506 - accuracy: 0.7528 - val_loss: 0.5960 - val_accuracy: 0.8028\n",
      "Epoch 11/100\n",
      "427/427 [==============================] - 2s 4ms/step - loss: 0.7039 - accuracy: 0.7731 - val_loss: 0.5662 - val_accuracy: 0.8222\n",
      "Epoch 12/100\n",
      "427/427 [==============================] - 2s 4ms/step - loss: 0.6870 - accuracy: 0.7720 - val_loss: 0.5439 - val_accuracy: 0.8250\n",
      "Epoch 13/100\n",
      "427/427 [==============================] - 1s 3ms/step - loss: 0.6665 - accuracy: 0.7856 - val_loss: 0.5293 - val_accuracy: 0.8472\n",
      "Epoch 14/100\n",
      "427/427 [==============================] - 1s 3ms/step - loss: 0.6329 - accuracy: 0.7976 - val_loss: 0.5181 - val_accuracy: 0.8333\n",
      "Epoch 15/100\n",
      "427/427 [==============================] - 2s 4ms/step - loss: 0.5941 - accuracy: 0.8087 - val_loss: 0.4882 - val_accuracy: 0.8361\n",
      "Epoch 16/100\n",
      "427/427 [==============================] - 1s 3ms/step - loss: 0.5859 - accuracy: 0.8087 - val_loss: 0.4894 - val_accuracy: 0.8333\n",
      "Epoch 17/100\n",
      "427/427 [==============================] - 2s 4ms/step - loss: 0.5789 - accuracy: 0.8131 - val_loss: 0.4860 - val_accuracy: 0.8278\n",
      "Epoch 18/100\n",
      "427/427 [==============================] - 1s 3ms/step - loss: 0.5454 - accuracy: 0.8277 - val_loss: 0.4790 - val_accuracy: 0.8472\n",
      "Epoch 19/100\n",
      "427/427 [==============================] - 1s 3ms/step - loss: 0.5286 - accuracy: 0.8257 - val_loss: 0.4672 - val_accuracy: 0.8500\n",
      "Epoch 20/100\n",
      "427/427 [==============================] - 1s 3ms/step - loss: 0.5165 - accuracy: 0.8327 - val_loss: 0.4563 - val_accuracy: 0.8667\n",
      "Epoch 21/100\n",
      "427/427 [==============================] - 1s 3ms/step - loss: 0.4840 - accuracy: 0.8451 - val_loss: 0.4570 - val_accuracy: 0.8583\n",
      "Epoch 22/100\n",
      "427/427 [==============================] - 2s 4ms/step - loss: 0.4913 - accuracy: 0.8462 - val_loss: 0.4368 - val_accuracy: 0.8639\n",
      "Epoch 23/100\n",
      "427/427 [==============================] - 2s 4ms/step - loss: 0.4716 - accuracy: 0.8511 - val_loss: 0.4307 - val_accuracy: 0.8528\n",
      "Epoch 24/100\n",
      "427/427 [==============================] - 1s 3ms/step - loss: 0.4524 - accuracy: 0.8555 - val_loss: 0.3949 - val_accuracy: 0.8722\n",
      "Epoch 25/100\n",
      "427/427 [==============================] - 2s 4ms/step - loss: 0.4470 - accuracy: 0.8564 - val_loss: 0.4051 - val_accuracy: 0.8889\n",
      "Epoch 26/100\n",
      "427/427 [==============================] - 1s 3ms/step - loss: 0.4568 - accuracy: 0.8544 - val_loss: 0.4055 - val_accuracy: 0.8806\n",
      "Epoch 27/100\n",
      "427/427 [==============================] - 2s 4ms/step - loss: 0.4299 - accuracy: 0.8607 - val_loss: 0.4079 - val_accuracy: 0.8806\n",
      "Epoch 28/100\n",
      "427/427 [==============================] - 1s 3ms/step - loss: 0.4017 - accuracy: 0.8684 - val_loss: 0.3675 - val_accuracy: 0.8889\n",
      "Epoch 29/100\n",
      "427/427 [==============================] - 2s 4ms/step - loss: 0.4054 - accuracy: 0.8710 - val_loss: 0.3942 - val_accuracy: 0.8833\n",
      "Epoch 30/100\n",
      "427/427 [==============================] - 2s 4ms/step - loss: 0.4115 - accuracy: 0.8689 - val_loss: 0.3943 - val_accuracy: 0.8778\n",
      "Epoch 31/100\n",
      "427/427 [==============================] - 1s 3ms/step - loss: 0.4147 - accuracy: 0.8765 - val_loss: 0.4108 - val_accuracy: 0.8611\n",
      "Epoch 32/100\n",
      "427/427 [==============================] - 1s 3ms/step - loss: 0.4122 - accuracy: 0.8691 - val_loss: 0.3992 - val_accuracy: 0.8833\n",
      "Epoch 33/100\n",
      "427/427 [==============================] - 2s 4ms/step - loss: 0.3767 - accuracy: 0.8847 - val_loss: 0.3840 - val_accuracy: 0.8833\n",
      "Epoch 34/100\n",
      "427/427 [==============================] - 1s 3ms/step - loss: 0.3746 - accuracy: 0.8773 - val_loss: 0.3636 - val_accuracy: 0.8750\n",
      "Epoch 35/100\n",
      "427/427 [==============================] - 2s 4ms/step - loss: 0.3820 - accuracy: 0.8833 - val_loss: 0.3883 - val_accuracy: 0.8806\n",
      "Epoch 36/100\n",
      "427/427 [==============================] - 2s 4ms/step - loss: 0.3689 - accuracy: 0.8888 - val_loss: 0.3813 - val_accuracy: 0.8833\n",
      "Epoch 37/100\n",
      "427/427 [==============================] - 1s 3ms/step - loss: 0.3684 - accuracy: 0.8886 - val_loss: 0.3656 - val_accuracy: 0.8944\n",
      "Epoch 38/100\n",
      "427/427 [==============================] - 1s 3ms/step - loss: 0.3415 - accuracy: 0.8876 - val_loss: 0.3668 - val_accuracy: 0.8750\n",
      "Epoch 39/100\n",
      "427/427 [==============================] - 1s 3ms/step - loss: 0.3621 - accuracy: 0.8886 - val_loss: 0.3580 - val_accuracy: 0.8833\n",
      "Epoch 40/100\n",
      "427/427 [==============================] - 1s 3ms/step - loss: 0.3363 - accuracy: 0.8943 - val_loss: 0.3756 - val_accuracy: 0.8806\n",
      "Epoch 41/100\n",
      "427/427 [==============================] - 1s 3ms/step - loss: 0.3585 - accuracy: 0.8863 - val_loss: 0.3653 - val_accuracy: 0.8806\n",
      "Epoch 42/100\n",
      "427/427 [==============================] - 1s 4ms/step - loss: 0.3295 - accuracy: 0.8959 - val_loss: 0.3616 - val_accuracy: 0.8833\n",
      "Epoch 43/100\n",
      "427/427 [==============================] - 1s 3ms/step - loss: 0.3171 - accuracy: 0.9006 - val_loss: 0.3806 - val_accuracy: 0.8833\n",
      "Epoch 44/100\n",
      "427/427 [==============================] - 2s 4ms/step - loss: 0.3449 - accuracy: 0.8908 - val_loss: 0.4191 - val_accuracy: 0.8722\n",
      "Epoch 45/100\n",
      "427/427 [==============================] - 1s 3ms/step - loss: 0.3318 - accuracy: 0.8939 - val_loss: 0.4101 - val_accuracy: 0.8778\n",
      "Epoch 46/100\n",
      "427/427 [==============================] - 1s 3ms/step - loss: 0.3378 - accuracy: 0.8962 - val_loss: 0.3378 - val_accuracy: 0.8944\n",
      "Epoch 47/100\n",
      "427/427 [==============================] - 2s 4ms/step - loss: 0.3103 - accuracy: 0.9035 - val_loss: 0.3950 - val_accuracy: 0.8806\n",
      "Epoch 48/100\n",
      "427/427 [==============================] - 2s 4ms/step - loss: 0.3179 - accuracy: 0.9019 - val_loss: 0.3557 - val_accuracy: 0.8889\n",
      "Epoch 49/100\n",
      "427/427 [==============================] - 2s 4ms/step - loss: 0.3096 - accuracy: 0.9057 - val_loss: 0.3224 - val_accuracy: 0.8917\n",
      "Epoch 50/100\n",
      "427/427 [==============================] - 2s 4ms/step - loss: 0.2928 - accuracy: 0.9088 - val_loss: 0.3324 - val_accuracy: 0.8861\n",
      "Epoch 51/100\n",
      "427/427 [==============================] - 2s 4ms/step - loss: 0.3168 - accuracy: 0.9032 - val_loss: 0.3313 - val_accuracy: 0.9000\n",
      "Epoch 52/100\n",
      "427/427 [==============================] - 2s 4ms/step - loss: 0.2887 - accuracy: 0.9113 - val_loss: 0.3302 - val_accuracy: 0.8944\n",
      "Epoch 53/100\n",
      "427/427 [==============================] - 2s 4ms/step - loss: 0.3012 - accuracy: 0.9028 - val_loss: 0.3122 - val_accuracy: 0.8917\n",
      "Epoch 54/100\n",
      "427/427 [==============================] - 2s 4ms/step - loss: 0.2805 - accuracy: 0.9145 - val_loss: 0.3353 - val_accuracy: 0.8778\n",
      "Epoch 55/100\n",
      "427/427 [==============================] - 2s 4ms/step - loss: 0.2899 - accuracy: 0.9072 - val_loss: 0.3254 - val_accuracy: 0.8750\n",
      "Epoch 56/100\n",
      "427/427 [==============================] - 2s 4ms/step - loss: 0.2827 - accuracy: 0.9133 - val_loss: 0.3401 - val_accuracy: 0.8833\n",
      "Epoch 57/100\n",
      "427/427 [==============================] - 2s 4ms/step - loss: 0.2860 - accuracy: 0.9125 - val_loss: 0.3273 - val_accuracy: 0.8917\n",
      "Epoch 58/100\n",
      "427/427 [==============================] - 2s 4ms/step - loss: 0.2887 - accuracy: 0.9122 - val_loss: 0.3442 - val_accuracy: 0.8917\n",
      "Epoch 59/100\n",
      "427/427 [==============================] - 2s 4ms/step - loss: 0.2779 - accuracy: 0.9107 - val_loss: 0.3594 - val_accuracy: 0.8806\n",
      "Epoch 60/100\n",
      "427/427 [==============================] - 2s 4ms/step - loss: 0.2830 - accuracy: 0.9133 - val_loss: 0.3523 - val_accuracy: 0.8806\n",
      "Epoch 61/100\n",
      "427/427 [==============================] - 2s 4ms/step - loss: 0.2704 - accuracy: 0.9160 - val_loss: 0.3464 - val_accuracy: 0.8944\n",
      "Epoch 62/100\n",
      "427/427 [==============================] - 2s 4ms/step - loss: 0.2687 - accuracy: 0.9191 - val_loss: 0.3286 - val_accuracy: 0.8917\n",
      "Epoch 63/100\n",
      "427/427 [==============================] - 2s 4ms/step - loss: 0.2637 - accuracy: 0.9164 - val_loss: 0.3414 - val_accuracy: 0.8917\n",
      "Epoch 64/100\n",
      "427/427 [==============================] - 2s 4ms/step - loss: 0.2542 - accuracy: 0.9229 - val_loss: 0.2939 - val_accuracy: 0.9083\n",
      "Epoch 65/100\n",
      "427/427 [==============================] - 1s 3ms/step - loss: 0.2771 - accuracy: 0.9183 - val_loss: 0.3354 - val_accuracy: 0.8861\n",
      "Epoch 66/100\n",
      "427/427 [==============================] - 2s 4ms/step - loss: 0.2727 - accuracy: 0.9154 - val_loss: 0.3272 - val_accuracy: 0.8861\n",
      "Epoch 67/100\n",
      "427/427 [==============================] - 2s 4ms/step - loss: 0.2594 - accuracy: 0.9220 - val_loss: 0.3716 - val_accuracy: 0.9056\n",
      "Epoch 68/100\n",
      "427/427 [==============================] - 2s 4ms/step - loss: 0.2601 - accuracy: 0.9214 - val_loss: 0.3427 - val_accuracy: 0.8917\n",
      "Epoch 69/100\n",
      "427/427 [==============================] - 1s 3ms/step - loss: 0.2431 - accuracy: 0.9286 - val_loss: 0.3310 - val_accuracy: 0.9028\n",
      "Epoch 70/100\n",
      "427/427 [==============================] - 2s 4ms/step - loss: 0.2667 - accuracy: 0.9218 - val_loss: 0.3512 - val_accuracy: 0.8833\n",
      "Epoch 71/100\n",
      "427/427 [==============================] - 2s 4ms/step - loss: 0.2292 - accuracy: 0.9316 - val_loss: 0.3572 - val_accuracy: 0.9028\n",
      "Epoch 72/100\n",
      "427/427 [==============================] - 2s 4ms/step - loss: 0.2345 - accuracy: 0.9252 - val_loss: 0.3458 - val_accuracy: 0.8861\n",
      "Epoch 73/100\n",
      "427/427 [==============================] - 2s 4ms/step - loss: 0.2341 - accuracy: 0.9324 - val_loss: 0.3537 - val_accuracy: 0.9000\n",
      "Epoch 74/100\n",
      "427/427 [==============================] - 2s 4ms/step - loss: 0.2509 - accuracy: 0.9248 - val_loss: 0.3856 - val_accuracy: 0.9000\n",
      "Epoch 75/100\n",
      "427/427 [==============================] - 2s 4ms/step - loss: 0.2424 - accuracy: 0.9286 - val_loss: 0.3396 - val_accuracy: 0.8972\n",
      "Epoch 76/100\n",
      "427/427 [==============================] - 1s 4ms/step - loss: 0.2434 - accuracy: 0.9254 - val_loss: 0.3653 - val_accuracy: 0.8917\n",
      "Epoch 77/100\n",
      "427/427 [==============================] - 2s 4ms/step - loss: 0.2556 - accuracy: 0.9255 - val_loss: 0.3237 - val_accuracy: 0.8944\n",
      "Epoch 78/100\n",
      "427/427 [==============================] - 2s 4ms/step - loss: 0.2239 - accuracy: 0.9297 - val_loss: 0.3656 - val_accuracy: 0.8778\n",
      "Epoch 79/100\n",
      "427/427 [==============================] - 2s 4ms/step - loss: 0.2405 - accuracy: 0.9319 - val_loss: 0.3387 - val_accuracy: 0.8861\n",
      "Epoch 80/100\n",
      "427/427 [==============================] - 1s 3ms/step - loss: 0.2305 - accuracy: 0.9275 - val_loss: 0.3283 - val_accuracy: 0.9000\n",
      "Epoch 81/100\n",
      "427/427 [==============================] - 2s 4ms/step - loss: 0.2281 - accuracy: 0.9273 - val_loss: 0.3197 - val_accuracy: 0.9083\n",
      "Epoch 82/100\n",
      "427/427 [==============================] - 1s 3ms/step - loss: 0.2342 - accuracy: 0.9259 - val_loss: 0.3175 - val_accuracy: 0.8972\n",
      "Epoch 83/100\n",
      "427/427 [==============================] - 1s 3ms/step - loss: 0.2255 - accuracy: 0.9311 - val_loss: 0.3222 - val_accuracy: 0.8944\n",
      "Epoch 84/100\n",
      "427/427 [==============================] - 1s 3ms/step - loss: 0.2241 - accuracy: 0.9297 - val_loss: 0.3621 - val_accuracy: 0.8917\n",
      "Epoch 85/100\n",
      "427/427 [==============================] - 1s 3ms/step - loss: 0.2055 - accuracy: 0.9350 - val_loss: 0.3499 - val_accuracy: 0.9028\n",
      "Epoch 86/100\n",
      "427/427 [==============================] - 2s 4ms/step - loss: 0.2169 - accuracy: 0.9308 - val_loss: 0.3053 - val_accuracy: 0.9056\n",
      "Epoch 87/100\n",
      "427/427 [==============================] - 1s 3ms/step - loss: 0.2281 - accuracy: 0.9306 - val_loss: 0.3096 - val_accuracy: 0.9000\n",
      "Epoch 88/100\n",
      "427/427 [==============================] - 2s 4ms/step - loss: 0.2248 - accuracy: 0.9302 - val_loss: 0.3385 - val_accuracy: 0.9056\n",
      "Epoch 89/100\n",
      "427/427 [==============================] - 1s 3ms/step - loss: 0.2094 - accuracy: 0.9319 - val_loss: 0.3812 - val_accuracy: 0.8833\n",
      "Epoch 90/100\n",
      "427/427 [==============================] - 1s 3ms/step - loss: 0.2234 - accuracy: 0.9347 - val_loss: 0.3736 - val_accuracy: 0.8861\n",
      "Epoch 91/100\n",
      "427/427 [==============================] - 1s 3ms/step - loss: 0.2067 - accuracy: 0.9385 - val_loss: 0.3400 - val_accuracy: 0.8944\n",
      "Epoch 92/100\n",
      "427/427 [==============================] - 1s 3ms/step - loss: 0.2273 - accuracy: 0.9341 - val_loss: 0.3452 - val_accuracy: 0.8861\n",
      "Epoch 93/100\n",
      "427/427 [==============================] - 1s 3ms/step - loss: 0.2130 - accuracy: 0.9387 - val_loss: 0.3603 - val_accuracy: 0.8806\n",
      "Epoch 94/100\n",
      "427/427 [==============================] - 2s 4ms/step - loss: 0.2128 - accuracy: 0.9363 - val_loss: 0.3509 - val_accuracy: 0.8889\n",
      "Epoch 95/100\n",
      "427/427 [==============================] - 2s 4ms/step - loss: 0.2216 - accuracy: 0.9384 - val_loss: 0.3171 - val_accuracy: 0.9139\n",
      "Epoch 96/100\n",
      "427/427 [==============================] - 2s 4ms/step - loss: 0.2126 - accuracy: 0.9378 - val_loss: 0.3855 - val_accuracy: 0.8778\n",
      "Epoch 97/100\n",
      "427/427 [==============================] - 1s 3ms/step - loss: 0.2315 - accuracy: 0.9335 - val_loss: 0.3461 - val_accuracy: 0.8861\n",
      "Epoch 98/100\n",
      "427/427 [==============================] - 1s 3ms/step - loss: 0.2062 - accuracy: 0.9379 - val_loss: 0.3610 - val_accuracy: 0.8889\n",
      "Epoch 99/100\n",
      "427/427 [==============================] - 2s 4ms/step - loss: 0.2142 - accuracy: 0.9394 - val_loss: 0.3911 - val_accuracy: 0.8611\n",
      "Epoch 100/100\n",
      "427/427 [==============================] - 2s 4ms/step - loss: 0.2013 - accuracy: 0.9431 - val_loss: 0.3497 - val_accuracy: 0.8944\n"
     ]
    }
   ],
   "source": [
    "history = model.fit(X_train, y_train, epochs=100, batch_size=16,validation_split = 0.05)"
   ]
  },
  {
   "cell_type": "code",
   "execution_count": 16,
   "id": "c7a4eceb",
   "metadata": {
    "execution": {
     "iopub.execute_input": "2023-10-31T13:52:23.161061Z",
     "iopub.status.busy": "2023-10-31T13:52:23.160264Z",
     "iopub.status.idle": "2023-10-31T13:52:23.483784Z",
     "shell.execute_reply": "2023-10-31T13:52:23.482597Z"
    },
    "id": "oeo4_hq1Tpi_",
    "outputId": "c66c2293-91a1-4b06-8f0c-3d3198ae99b6",
    "papermill": {
     "duration": 0.631974,
     "end_time": "2023-10-31T13:52:23.486046",
     "exception": false,
     "start_time": "2023-10-31T13:52:22.854072",
     "status": "completed"
    },
    "tags": []
   },
   "outputs": [
    {
     "data": {
      "image/png": "[encoded data removed]",
      "text/plain": [
       "<Figure size 640x480 with 1 Axes>"
      ]
     },
     "metadata": {},
     "output_type": "display_data"
    }
   ],
   "source": [
    "plt.plot(history.history[\"loss\"],color = \"red\")\n",
    "plt.plot(history.history[\"val_loss\"],color = \"green\")\n",
    "plt.title(\"Model Loss\")\n",
    "plt.legend([\"loss\",\"val_loss\"])\n",
    "plt.show()"
   ]
  },
  {
   "cell_type": "code",
   "execution_count": 17,
   "id": "56c252a4",
   "metadata": {
    "execution": {
     "iopub.execute_input": "2023-10-31T13:52:24.064616Z",
     "iopub.status.busy": "2023-10-31T13:52:24.064182Z",
     "iopub.status.idle": "2023-10-31T13:52:24.382220Z",
     "shell.execute_reply": "2023-10-31T13:52:24.381081Z"
    },
    "id": "QfsqqgGeTvL9",
    "outputId": "b87a1264-1c43-4d04-e71b-95f1bacc60a2",
    "papermill": {
     "duration": 0.609676,
     "end_time": "2023-10-31T13:52:24.384584",
     "exception": false,
     "start_time": "2023-10-31T13:52:23.774908",
     "status": "completed"
    },
    "tags": []
   },
   "outputs": [
    {
     "data": {
      "image/png": "[encoded data removed]",
      "text/plain": [
       "<Figure size 640x480 with 1 Axes>"
      ]
     },
     "metadata": {},
     "output_type": "display_data"
    }
   ],
   "source": [
    "plt.plot(history.history[\"accuracy\"],color = \"red\")\n",
    "plt.plot(history.history[\"val_accuracy\"],color = \"green\")\n",
    "plt.title(\"Model accuracy\")\n",
    "plt.legend([\"accuracy\",\"val_accuracy\"])\n",
    "plt.show()"
   ]
  },
  {
   "cell_type": "markdown",
   "id": "f261fd2e",
   "metadata": {
    "id": "8ZlxKBVYLme_",
    "papermill": {
     "duration": 0.356185,
     "end_time": "2023-10-31T13:52:25.029733",
     "exception": false,
     "start_time": "2023-10-31T13:52:24.673548",
     "status": "completed"
    },
    "tags": []
   },
   "source": [
    "# Model Evaluation"
   ]
  },
  {
   "cell_type": "code",
   "execution_count": 18,
   "id": "900e521e",
   "metadata": {
    "execution": {
     "iopub.execute_input": "2023-10-31T13:52:25.616263Z",
     "iopub.status.busy": "2023-10-31T13:52:25.615476Z",
     "iopub.status.idle": "2023-10-31T13:52:25.923796Z",
     "shell.execute_reply": "2023-10-31T13:52:25.922472Z"
    },
    "id": "8TgyygrfAYOw",
    "outputId": "6bc187a7-447e-410f-e7cc-36bf364091ef",
    "papermill": {
     "duration": 0.603362,
     "end_time": "2023-10-31T13:52:25.926156",
     "exception": false,
     "start_time": "2023-10-31T13:52:25.322794",
     "status": "completed"
    },
    "tags": []
   },
   "outputs": [
    {
     "name": "stdout",
     "output_type": "stream",
     "text": [
      "57/57 [==============================] - 0s 2ms/step\n",
      "Test Accuracy:  89.43857698721513\n"
     ]
    }
   ],
   "source": [
    "\n",
    "y_pred_ann = model.predict(X_test)\n",
    "y_pred = []\n",
    "\n",
    "for i in y_pred_ann:\n",
    "  y_pred.append(np.argmax(i))\n",
    "\n",
    "accuracy = accuracy_score(y_test, y_pred)\n",
    "\n",
    "print(\"Test Accuracy: \",accuracy * 100)"
   ]
  },
  {
   "cell_type": "code",
   "execution_count": 19,
   "id": "e1ae0981",
   "metadata": {
    "execution": {
     "iopub.execute_input": "2023-10-31T13:52:26.509805Z",
     "iopub.status.busy": "2023-10-31T13:52:26.509324Z",
     "iopub.status.idle": "2023-10-31T13:52:26.517638Z",
     "shell.execute_reply": "2023-10-31T13:52:26.516844Z"
    },
    "id": "bMVOIz3IBn96",
    "outputId": "3a8f2162-9cd3-45a0-a672-1af1b116ef3c",
    "papermill": {
     "duration": 0.302771,
     "end_time": "2023-10-31T13:52:26.519760",
     "exception": false,
     "start_time": "2023-10-31T13:52:26.216989",
     "status": "completed"
    },
    "tags": []
   },
   "outputs": [
    {
     "name": "stdout",
     "output_type": "stream",
     "text": [
      "[7, 2, 0, 1, 2, 9, 3, 3, 3, 5, 6, 0, 6, 3, 0, 3, 6, 2, 5, 5, 9, 3, 8, 7, 7, 0, 0, 6, 0, 1, 7, 7, 6, 8, 4, 3, 5, 7, 1, 1, 0, 3, 5, 7, 7, 2, 9, 1, 8, 7, 5, 6, 4, 9, 9, 1, 4, 8, 1, 0, 2, 1, 2, 9, 2, 7, 0, 2, 5, 6, 3, 3, 7, 0, 6, 4, 7, 9, 6, 7, 1, 6, 6, 6, 9, 6, 7, 0, 5, 3, 7, 3, 8, 0, 5, 8, 8, 3, 4, 4, 2, 8, 9, 6, 5, 4, 3, 6, 3, 8, 3, 6, 3, 2, 4, 9, 0, 5, 7, 8, 0, 0, 4, 0, 9, 2, 0, 6, 0, 1, 8, 0, 9, 1, 9, 7, 4, 7, 1, 1, 7, 3, 4, 2, 8, 9, 2, 5, 1, 9, 7, 3, 7, 8, 1, 0, 3, 2, 0, 4, 5, 8, 4, 9, 6, 2, 0, 6, 1, 9, 3, 0, 5, 9, 4, 5, 2, 6, 3, 5, 4, 2, 1, 5, 4, 2, 1, 0, 5, 1, 3, 1, 2, 9, 2, 9, 4, 8, 1, 2, 4, 8, 8, 6, 9, 3, 4, 0, 5, 1, 0, 3, 5, 1, 1, 8, 2, 6, 7, 8, 9, 5, 3, 3, 2, 9, 6, 3, 8, 7, 6, 0, 5, 6, 1, 0, 5, 0, 7, 2, 6, 7, 2, 8, 0, 6, 6, 8, 1, 7, 3, 8, 8, 4, 1, 8, 4, 1, 0, 5, 4, 9, 9, 2, 7, 1, 4, 8, 7, 2, 5, 8, 4, 8, 0, 7, 6, 5, 0, 3, 7, 7, 5, 4, 5, 4, 1, 0, 4, 4, 5, 0, 2, 7, 8, 1, 8, 2, 7, 4, 5, 6, 1, 5, 5, 4, 5, 7, 2, 4, 0, 1, 7, 3, 2, 1, 0, 8, 1, 4, 5, 4, 0, 5, 8, 6, 9, 1, 5, 9, 8, 6, 7, 5, 6, 8, 9, 3, 3, 3, 6, 9, 8, 5, 1, 0, 5, 2, 1, 8, 8, 6, 8, 0, 8, 1, 6, 9, 5, 2, 3, 7, 0, 9, 4, 8, 5, 8, 3, 3, 4, 9, 0, 8, 7, 9, 6, 6, 5, 5, 5, 5, 1, 4, 9, 9, 1, 9, 9, 7, 3, 0, 8, 8, 4, 7, 5, 7, 2, 5, 3, 3, 2, 2, 6, 1, 4, 4, 1, 7, 1, 3, 9, 4, 3, 7, 0, 4, 4, 4, 5, 9, 0, 4, 1, 0, 2, 6, 9, 3, 2, 7, 4, 0, 2, 5, 3, 4, 6, 6, 1, 9, 0, 6, 7, 0, 0, 1, 7, 8, 2, 4, 1, 0, 5, 4, 2, 2, 2, 9, 4, 0, 9, 0, 2, 2, 2, 8, 2, 2, 5, 8, 4, 4, 3, 6, 4, 1, 7, 0, 4, 8, 9, 8, 1, 7, 7, 9, 8, 6, 3, 8, 1, 5, 8, 9, 3, 6, 5, 3, 3, 8, 4, 5, 1, 4, 4, 8, 2, 2, 8, 6, 2, 9, 2, 9, 2, 4, 1, 7, 6, 0, 0, 2, 0, 9, 7, 6, 9, 0, 5, 0, 3, 6, 9, 4, 9, 4, 2, 5, 7, 0, 9, 3, 2, 3, 9, 6, 5, 3, 1, 3, 8, 0, 9, 1, 7, 7, 4, 6, 6, 5, 2, 8, 9, 4, 1, 8, 2, 6, 5, 3, 0, 2, 2, 2, 6, 3, 3, 8, 4, 3, 6, 6, 7, 6, 7, 4, 8, 9, 5, 8, 1, 8, 1, 4, 2, 7, 4, 2, 8, 4, 3, 7, 3, 1, 9, 5, 7, 6, 9, 1, 0, 9, 6, 8, 5, 2, 2, 9, 2, 7, 9, 8, 7, 2, 8, 3, 6, 7, 8, 0, 8, 2, 6, 6, 3, 4, 5, 6, 6, 0, 3, 0, 7, 7, 1, 0, 9, 8, 6, 1, 4, 5, 3, 3, 3, 9, 6, 3, 5, 6, 4, 1, 5, 8, 1, 7, 3, 3, 4, 8, 3, 6, 8, 3, 2, 7, 2, 4, 0, 2, 6, 2, 3, 0, 4, 3, 0, 4, 8, 2, 4, 6, 3, 6, 7, 9, 7, 3, 5, 1, 5, 0, 6, 9, 8, 0, 5, 4, 5, 8, 9, 7, 8, 0, 1, 7, 8, 3, 5, 5, 4, 1, 3, 2, 5, 6, 5, 7, 3, 0, 9, 0, 1, 4, 8, 4, 5, 3, 1, 3, 0, 8, 8, 5, 2, 3, 3, 7, 0, 1, 7, 0, 3, 7, 1, 7, 6, 8, 6, 8, 0, 1, 0, 4, 2, 9, 5, 7, 9, 8, 6, 6, 3, 1, 3, 5, 5, 8, 4, 9, 7, 0, 9, 6, 2, 3, 5, 8, 6, 2, 2, 6, 5, 5, 5, 8, 5, 4, 0, 4, 9, 4, 3, 1, 5, 7, 2, 9, 5, 7, 5, 2, 6, 6, 9, 0, 6, 5, 3, 0, 0, 6, 0, 4, 5, 7, 1, 8, 8, 7, 1, 3, 2, 0, 3, 8, 7, 1, 4, 0, 8, 0, 6, 5, 1, 4, 5, 0, 0, 1, 8, 2, 7, 3, 1, 9, 8, 0, 8, 4, 9, 3, 1, 3, 0, 3, 6, 7, 6, 5, 5, 4, 5, 2, 2, 8, 9, 0, 9, 0, 6, 3, 2, 5, 7, 9, 2, 1, 0, 4, 7, 7, 8, 4, 0, 8, 1, 9, 4, 6, 0, 8, 9, 9, 7, 4, 8, 5, 7, 2, 4, 7, 0, 6, 8, 9, 3, 9, 7, 8, 5, 2, 5, 4, 3, 2, 4, 8, 3, 6, 3, 7, 9, 1, 9, 3, 6, 8, 9, 6, 1, 7, 8, 8, 0, 6, 8, 0, 6, 0, 4, 6, 6, 7, 7, 9, 3, 8, 3, 2, 4, 2, 0, 5, 4, 0, 8, 6, 4, 2, 3, 5, 2, 4, 1, 9, 9, 9, 1, 3, 7, 0, 6, 2, 5, 1, 3, 8, 7, 1, 2, 4, 9, 2, 6, 7, 2, 3, 5, 1, 4, 8, 1, 0, 5, 1, 6, 6, 0, 1, 4, 7, 1, 4, 2, 2, 7, 9, 9, 3, 0, 5, 5, 4, 0, 6, 8, 5, 9, 7, 1, 9, 0, 1, 2, 6, 0, 2, 9, 5, 5, 7, 8, 8, 0, 7, 9, 9, 2, 7, 0, 9, 2, 3, 0, 0, 4, 7, 5, 7, 9, 3, 3, 6, 9, 2, 8, 9, 5, 9, 4, 3, 5, 5, 8, 9, 7, 8, 3, 3, 6, 8, 2, 9, 2, 5, 1, 4, 4, 0, 3, 8, 6, 9, 2, 9, 0, 2, 3, 5, 0, 0, 1, 0, 0, 6, 7, 6, 8, 6, 1, 8, 5, 1, 6, 9, 9, 9, 0, 3, 3, 7, 8, 4, 0, 7, 2, 4, 3, 6, 4, 1, 0, 5, 5, 1, 4, 9, 3, 5, 0, 6, 7, 4, 0, 9, 4, 3, 5, 1, 5, 7, 3, 4, 1, 6, 5, 9, 6, 9, 3, 0, 1, 6, 8, 5, 4, 1, 7, 0, 3, 2, 6, 3, 6, 3, 8, 8, 4, 7, 5, 3, 7, 0, 8, 1, 4, 0, 8, 3, 2, 0, 0, 8, 0, 2, 1, 5, 6, 5, 1, 5, 4, 0, 7, 3, 4, 3, 3, 7, 5, 5, 4, 1, 0, 6, 5, 9, 2, 2, 8, 2, 9, 5, 1, 2, 6, 8, 4, 7, 8, 0, 9, 4, 4, 4, 9, 6, 1, 7, 8, 3, 5, 1, 6, 5, 0, 7, 1, 1, 0, 8, 8, 5, 7, 5, 2, 2, 0, 5, 8, 0, 7, 4, 3, 2, 9, 8, 7, 0, 6, 5, 4, 5, 4, 3, 1, 2, 6, 2, 0, 6, 5, 0, 6, 6, 6, 3, 5, 7, 7, 2, 0, 8, 0, 5, 5, 4, 6, 5, 1, 6, 2, 1, 4, 7, 3, 8, 5, 8, 6, 5, 0, 1, 0, 7, 2, 8, 5, 3, 7, 1, 9, 8, 7, 2, 6, 3, 8, 5, 1, 9, 8, 8, 2, 0, 3, 3, 4, 7, 0, 8, 7, 8, 2, 6, 1, 9, 8, 5, 3, 1, 1, 0, 9, 8, 2, 9, 0, 2, 0, 2, 7, 2, 4, 6, 3, 0, 9, 2, 3, 2, 1, 5, 6, 5, 8, 8, 8, 8, 3, 1, 8, 5, 4, 4, 2, 7, 1, 6, 2, 7, 3, 2, 5, 2, 5, 1, 9, 9, 0, 3, 5, 1, 4, 6, 1, 5, 1, 5, 6, 8, 4, 7, 6, 8, 7, 7, 0, 3, 6, 1, 6, 8, 5, 5, 7, 2, 3, 4, 7, 7, 4, 8, 7, 2, 0, 6, 6, 4, 7, 6, 3, 6, 1, 7, 0, 2, 2, 8, 0, 1, 5, 2, 2, 6, 2, 4, 2, 4, 2, 3, 0, 3, 0, 3, 5, 6, 7, 8, 7, 6, 0, 6, 3, 6, 2, 1, 9, 6, 2, 7, 6, 1, 2, 5, 0, 2, 9, 7, 2, 2, 7, 7, 1, 8, 2, 9, 5, 6, 1, 9, 3, 3, 1, 8, 0, 4, 5, 7, 2, 0, 1, 2, 4, 0, 5, 2, 2, 5, 3, 5, 7, 0, 1, 9, 0, 4, 0, 3, 1, 6, 0, 9, 3, 9, 6, 0, 1, 2, 9, 4, 7, 3, 5, 2, 1, 7, 5, 0, 2, 2, 9, 7, 9, 9, 6, 1, 2, 7, 7, 8, 9, 4, 4, 0, 9, 5, 4, 6, 4, 0, 9, 5, 7, 3, 4, 1, 4, 7, 1, 8, 5, 4, 6, 6, 5, 3, 5, 7, 5, 2, 1, 1, 7, 4, 5, 6, 4, 8, 3, 1, 5, 8, 9, 3, 2, 1, 3, 9, 7, 9, 9, 6, 1, 6, 5, 3, 3, 7, 5, 0, 2, 4, 1, 7, 7, 6, 6, 0, 6, 7, 4, 2, 3, 2, 4, 5, 4, 4, 1, 1, 2, 9, 1, 5, 0, 0, 9, 9, 6, 7, 4, 5, 9, 4, 5, 2, 7, 6, 9, 7, 1, 7, 0, 2, 4, 1, 6, 9, 8, 1, 3, 3, 5, 7, 5, 5, 6, 6, 3, 7, 8, 6, 8, 9, 6, 5, 5, 3, 7, 6, 3, 3, 0, 8, 6, 9, 4, 1, 6, 3, 7, 4, 2, 9, 2, 3, 9, 7, 9, 7, 7, 9, 3, 0, 9, 8, 1, 2, 8, 6, 5, 3, 5, 5, 3, 8, 9, 9, 1, 4, 7, 7, 2, 3, 6, 2, 5, 0, 2, 1, 1, 2, 0, 1, 0, 7, 5, 8, 5, 9, 3, 0, 4, 7, 7, 1, 1, 5, 9, 0, 1, 1, 4, 5, 1, 9, 9, 4, 9, 0, 2, 8, 3, 4, 9, 7, 4, 2, 3, 1, 4, 5, 6, 2, 9, 7, 3, 1, 1, 3, 8, 3, 5, 0, 6]\n"
     ]
    }
   ],
   "source": [
    "print(y_pred)"
   ]
  },
  {
   "cell_type": "markdown",
   "id": "37002c00",
   "metadata": {
    "id": "tQSlO-YPLsTC",
    "papermill": {
     "duration": 0.288399,
     "end_time": "2023-10-31T13:52:27.097988",
     "exception": false,
     "start_time": "2023-10-31T13:52:26.809589",
     "status": "completed"
    },
    "tags": []
   },
   "source": [
    "# Test data\n"
   ]
  },
  {
   "cell_type": "code",
   "execution_count": 20,
   "id": "71afcdb9",
   "metadata": {
    "execution": {
     "iopub.execute_input": "2023-10-31T13:52:27.679664Z",
     "iopub.status.busy": "2023-10-31T13:52:27.678583Z",
     "iopub.status.idle": "2023-10-31T13:52:27.742934Z",
     "shell.execute_reply": "2023-10-31T13:52:27.741798Z"
    },
    "id": "fYTWtULb-m36",
    "outputId": "799fbc83-54a2-4da0-a183-cad2b73308bd",
    "papermill": {
     "duration": 0.359222,
     "end_time": "2023-10-31T13:52:27.745352",
     "exception": false,
     "start_time": "2023-10-31T13:52:27.386130",
     "status": "completed"
    },
    "tags": []
   },
   "outputs": [
    {
     "data": {
      "text/html": [
       "<div>\n",
       "<style scoped>\n",
       "    .dataframe tbody tr th:only-of-type {\n",
       "        vertical-align: middle;\n",
       "    }\n",
       "\n",
       "    .dataframe tbody tr th {\n",
       "        vertical-align: top;\n",
       "    }\n",
       "\n",
       "    .dataframe thead th {\n",
       "        text-align: right;\n",
       "    }\n",
       "</style>\n",
       "<table border=\"1\" class=\"dataframe\">\n",
       "  <thead>\n",
       "    <tr style=\"text-align: right;\">\n",
       "      <th></th>\n",
       "      <th>length</th>\n",
       "      <th>chroma_stft_mean</th>\n",
       "      <th>chroma_stft_var</th>\n",
       "      <th>rms_mean</th>\n",
       "      <th>rms_var</th>\n",
       "      <th>spectral_centroid_mean</th>\n",
       "      <th>spectral_centroid_var</th>\n",
       "      <th>spectral_bandwidth_mean</th>\n",
       "      <th>spectral_bandwidth_var</th>\n",
       "      <th>rolloff_mean</th>\n",
       "      <th>...</th>\n",
       "      <th>mfcc16_var</th>\n",
       "      <th>mfcc17_mean</th>\n",
       "      <th>mfcc17_var</th>\n",
       "      <th>mfcc18_mean</th>\n",
       "      <th>mfcc18_var</th>\n",
       "      <th>mfcc19_mean</th>\n",
       "      <th>mfcc19_var</th>\n",
       "      <th>mfcc20_mean</th>\n",
       "      <th>mfcc20_var</th>\n",
       "      <th>id</th>\n",
       "    </tr>\n",
       "  </thead>\n",
       "  <tbody>\n",
       "    <tr>\n",
       "      <th>0</th>\n",
       "      <td>66149</td>\n",
       "      <td>0.352453</td>\n",
       "      <td>0.079074</td>\n",
       "      <td>0.049762</td>\n",
       "      <td>0.000113</td>\n",
       "      <td>2182.571837</td>\n",
       "      <td>1.068958e+06</td>\n",
       "      <td>2793.933194</td>\n",
       "      <td>365598.217794</td>\n",
       "      <td>4882.736629</td>\n",
       "      <td>...</td>\n",
       "      <td>54.443741</td>\n",
       "      <td>-7.310032</td>\n",
       "      <td>54.092850</td>\n",
       "      <td>-3.083705</td>\n",
       "      <td>21.973936</td>\n",
       "      <td>-6.226634</td>\n",
       "      <td>47.559479</td>\n",
       "      <td>-10.531331</td>\n",
       "      <td>40.015507</td>\n",
       "      <td>9586</td>\n",
       "    </tr>\n",
       "    <tr>\n",
       "      <th>1</th>\n",
       "      <td>66149</td>\n",
       "      <td>0.478756</td>\n",
       "      <td>0.087817</td>\n",
       "      <td>0.161004</td>\n",
       "      <td>0.006013</td>\n",
       "      <td>2377.436870</td>\n",
       "      <td>4.982766e+05</td>\n",
       "      <td>2238.413578</td>\n",
       "      <td>145786.540526</td>\n",
       "      <td>4952.139799</td>\n",
       "      <td>...</td>\n",
       "      <td>68.952118</td>\n",
       "      <td>-5.488387</td>\n",
       "      <td>47.951576</td>\n",
       "      <td>4.220189</td>\n",
       "      <td>54.550598</td>\n",
       "      <td>-1.984476</td>\n",
       "      <td>83.323364</td>\n",
       "      <td>1.572527</td>\n",
       "      <td>59.916058</td>\n",
       "      <td>6984</td>\n",
       "    </tr>\n",
       "    <tr>\n",
       "      <th>2</th>\n",
       "      <td>66149</td>\n",
       "      <td>0.329632</td>\n",
       "      <td>0.076669</td>\n",
       "      <td>0.191606</td>\n",
       "      <td>0.000796</td>\n",
       "      <td>2525.119913</td>\n",
       "      <td>1.121766e+05</td>\n",
       "      <td>2472.943874</td>\n",
       "      <td>152231.535952</td>\n",
       "      <td>5245.819561</td>\n",
       "      <td>...</td>\n",
       "      <td>34.014881</td>\n",
       "      <td>-2.187970</td>\n",
       "      <td>48.011997</td>\n",
       "      <td>-5.302452</td>\n",
       "      <td>20.189150</td>\n",
       "      <td>-1.775238</td>\n",
       "      <td>33.344528</td>\n",
       "      <td>-1.861419</td>\n",
       "      <td>39.216839</td>\n",
       "      <td>7047</td>\n",
       "    </tr>\n",
       "    <tr>\n",
       "      <th>3</th>\n",
       "      <td>66149</td>\n",
       "      <td>0.302360</td>\n",
       "      <td>0.092979</td>\n",
       "      <td>0.106443</td>\n",
       "      <td>0.001762</td>\n",
       "      <td>1609.587478</td>\n",
       "      <td>1.552065e+05</td>\n",
       "      <td>2010.500266</td>\n",
       "      <td>66792.319500</td>\n",
       "      <td>3505.274189</td>\n",
       "      <td>...</td>\n",
       "      <td>61.442478</td>\n",
       "      <td>-7.453752</td>\n",
       "      <td>63.574467</td>\n",
       "      <td>6.466436</td>\n",
       "      <td>26.298433</td>\n",
       "      <td>-4.502402</td>\n",
       "      <td>47.922512</td>\n",
       "      <td>-4.084498</td>\n",
       "      <td>32.702728</td>\n",
       "      <td>2510</td>\n",
       "    </tr>\n",
       "    <tr>\n",
       "      <th>4</th>\n",
       "      <td>66149</td>\n",
       "      <td>0.400731</td>\n",
       "      <td>0.090858</td>\n",
       "      <td>0.125889</td>\n",
       "      <td>0.006567</td>\n",
       "      <td>1235.357695</td>\n",
       "      <td>2.267020e+05</td>\n",
       "      <td>1739.174077</td>\n",
       "      <td>218522.407816</td>\n",
       "      <td>2733.308857</td>\n",
       "      <td>...</td>\n",
       "      <td>48.944210</td>\n",
       "      <td>-2.122545</td>\n",
       "      <td>53.329845</td>\n",
       "      <td>-2.181120</td>\n",
       "      <td>41.637207</td>\n",
       "      <td>-3.361829</td>\n",
       "      <td>46.104019</td>\n",
       "      <td>-2.228968</td>\n",
       "      <td>30.943306</td>\n",
       "      <td>34</td>\n",
       "    </tr>\n",
       "  </tbody>\n",
       "</table>\n",
       "<p>5 rows × 59 columns</p>\n",
       "</div>"
      ],
      "text/plain": [
       "   length  chroma_stft_mean  chroma_stft_var  rms_mean   rms_var  \\\n",
       "0   66149          0.352453         0.079074  0.049762  0.000113   \n",
       "1   66149          0.478756         0.087817  0.161004  0.006013   \n",
       "2   66149          0.329632         0.076669  0.191606  0.000796   \n",
       "3   66149          0.302360         0.092979  0.106443  0.001762   \n",
       "4   66149          0.400731         0.090858  0.125889  0.006567   \n",
       "\n",
       "   spectral_centroid_mean  spectral_centroid_var  spectral_bandwidth_mean  \\\n",
       "0             2182.571837           1.068958e+06              2793.933194   \n",
       "1             2377.436870           4.982766e+05              2238.413578   \n",
       "2             2525.119913           1.121766e+05              2472.943874   \n",
       "3             1609.587478           1.552065e+05              2010.500266   \n",
       "4             1235.357695           2.267020e+05              1739.174077   \n",
       "\n",
       "   spectral_bandwidth_var  rolloff_mean  ...  mfcc16_var  mfcc17_mean  \\\n",
       "0           365598.217794   4882.736629  ...   54.443741    -7.310032   \n",
       "1           145786.540526   4952.139799  ...   68.952118    -5.488387   \n",
       "2           152231.535952   5245.819561  ...   34.014881    -2.187970   \n",
       "3            66792.319500   3505.274189  ...   61.442478    -7.453752   \n",
       "4           218522.407816   2733.308857  ...   48.944210    -2.122545   \n",
       "\n",
       "   mfcc17_var  mfcc18_mean  mfcc18_var  mfcc19_mean  mfcc19_var  mfcc20_mean  \\\n",
       "0   54.092850    -3.083705   21.973936    -6.226634   47.559479   -10.531331   \n",
       "1   47.951576     4.220189   54.550598    -1.984476   83.323364     1.572527   \n",
       "2   48.011997    -5.302452   20.189150    -1.775238   33.344528    -1.861419   \n",
       "3   63.574467     6.466436   26.298433    -4.502402   47.922512    -4.084498   \n",
       "4   53.329845    -2.181120   41.637207    -3.361829   46.104019    -2.228968   \n",
       "\n",
       "   mfcc20_var    id  \n",
       "0   40.015507  9586  \n",
       "1   59.916058  6984  \n",
       "2   39.216839  7047  \n",
       "3   32.702728  2510  \n",
       "4   30.943306    34  \n",
       "\n",
       "[5 rows x 59 columns]"
      ]
     },
     "execution_count": 20,
     "metadata": {},
     "output_type": "execute_result"
    }
   ],
   "source": [
    "\n",
    "test_data = pd.read_csv(\"/kaggle/input/pesurrcampusmicompetitionb/test.csv\")\n",
    "test_data.head()\n"
   ]
  },
  {
   "cell_type": "code",
   "execution_count": 21,
   "id": "1a32eb85",
   "metadata": {
    "execution": {
     "iopub.execute_input": "2023-10-31T13:52:28.325863Z",
     "iopub.status.busy": "2023-10-31T13:52:28.324733Z",
     "iopub.status.idle": "2023-10-31T13:52:28.330188Z",
     "shell.execute_reply": "2023-10-31T13:52:28.329458Z"
    },
    "id": "0Km2RFFqFQZ7",
    "papermill": {
     "duration": 0.296558,
     "end_time": "2023-10-31T13:52:28.332211",
     "exception": false,
     "start_time": "2023-10-31T13:52:28.035653",
     "status": "completed"
    },
    "tags": []
   },
   "outputs": [],
   "source": [
    "X_test=test_data.iloc[:,1:-1].values"
   ]
  },
  {
   "cell_type": "code",
   "execution_count": 22,
   "id": "40b44990",
   "metadata": {
    "execution": {
     "iopub.execute_input": "2023-10-31T13:52:28.973335Z",
     "iopub.status.busy": "2023-10-31T13:52:28.972620Z",
     "iopub.status.idle": "2023-10-31T13:52:29.110653Z",
     "shell.execute_reply": "2023-10-31T13:52:29.109679Z"
    },
    "id": "MtGoOOKWOBDK",
    "outputId": "0ee486ce-e7d4-47aa-de9d-4056902beccb",
    "papermill": {
     "duration": 0.493145,
     "end_time": "2023-10-31T13:52:29.113218",
     "exception": false,
     "start_time": "2023-10-31T13:52:28.620073",
     "status": "completed"
    },
    "tags": []
   },
   "outputs": [
    {
     "name": "stdout",
     "output_type": "stream",
     "text": [
      "32/32 [==============================] - 0s 2ms/step\n"
     ]
    }
   ],
   "source": [
    "X_test = scaler.transform(X_test)\n",
    "y_pred_test=model.predict(X_test)"
   ]
  },
  {
   "cell_type": "code",
   "execution_count": 23,
   "id": "d9b8ea4e",
   "metadata": {
    "execution": {
     "iopub.execute_input": "2023-10-31T13:52:29.695879Z",
     "iopub.status.busy": "2023-10-31T13:52:29.695180Z",
     "iopub.status.idle": "2023-10-31T13:52:29.704393Z",
     "shell.execute_reply": "2023-10-31T13:52:29.703341Z"
    },
    "id": "9pQkWa3FOCnv",
    "papermill": {
     "duration": 0.303578,
     "end_time": "2023-10-31T13:52:29.706651",
     "exception": false,
     "start_time": "2023-10-31T13:52:29.403073",
     "status": "completed"
    },
    "tags": []
   },
   "outputs": [],
   "source": [
    "y_pred_final = []\n",
    "for i in y_pred_test:\n",
    "  y_pred_final.append(np.argmax(i))"
   ]
  },
  {
   "cell_type": "code",
   "execution_count": 24,
   "id": "4781e067",
   "metadata": {
    "execution": {
     "iopub.execute_input": "2023-10-31T13:52:30.287706Z",
     "iopub.status.busy": "2023-10-31T13:52:30.287010Z",
     "iopub.status.idle": "2023-10-31T13:52:30.293484Z",
     "shell.execute_reply": "2023-10-31T13:52:30.292429Z"
    },
    "id": "xNBnSESMBTEg",
    "outputId": "32ab6436-6afd-4a32-991d-6652d28b13bb",
    "papermill": {
     "duration": 0.29996,
     "end_time": "2023-10-31T13:52:30.296010",
     "exception": false,
     "start_time": "2023-10-31T13:52:29.996050",
     "status": "completed"
    },
    "tags": []
   },
   "outputs": [
    {
     "name": "stdout",
     "output_type": "stream",
     "text": [
      "[9, 6, 7, 2, 0, 2, 6, 4, 3, 0, 3, 7, 6, 0, 9, 6, 1, 9, 5, 7, 3, 1, 3, 2, 4, 4, 4, 9, 8, 8, 1, 4, 5, 1, 3, 5, 3, 1, 0, 2, 3, 4, 5, 9, 7, 5, 3, 1, 0, 9, 8, 8, 2, 9, 1, 9, 5, 5, 1, 4, 6, 2, 0, 1, 2, 5, 8, 9, 4, 5, 2, 8, 4, 8, 0, 0, 3, 7, 1, 3, 0, 7, 7, 0, 3, 8, 4, 4, 2, 9, 2, 2, 9, 9, 4, 3, 9, 0, 0, 4, 5, 8, 3, 6, 1, 9, 9, 6, 6, 5, 3, 7, 1, 6, 0, 5, 2, 1, 6, 6, 7, 4, 5, 0, 0, 9, 6, 6, 3, 9, 7, 9, 2, 9, 6, 0, 3, 5, 6, 1, 4, 9, 7, 4, 2, 3, 5, 1, 8, 3, 9, 0, 2, 0, 9, 2, 5, 3, 4, 0, 9, 9, 3, 7, 3, 2, 1, 9, 1, 2, 8, 2, 3, 2, 2, 3, 0, 1, 1, 1, 5, 3, 6, 2, 1, 7, 5, 9, 8, 1, 1, 3, 4, 6, 7, 3, 9, 5, 9, 5, 2, 3, 7, 0, 5, 6, 9, 4, 5, 0, 5, 4, 5, 2, 3, 7, 2, 9, 4, 8, 9, 4, 5, 9, 7, 3, 2, 6, 7, 2, 7, 0, 0, 0, 4, 4, 5, 8, 1, 2, 4, 9, 5, 5, 8, 7, 7, 2, 4, 0, 2, 8, 9, 7, 5, 1, 0, 2, 1, 4, 0, 5, 0, 4, 8, 7, 9, 1, 5, 9, 9, 3, 7, 2, 9, 8, 3, 9, 9, 6, 0, 6, 8, 8, 2, 7, 4, 7, 2, 6, 6, 7, 6, 2, 5, 9, 8, 1, 5, 4, 4, 5, 4, 1, 6, 5, 6, 8, 1, 0, 7, 8, 5, 6, 6, 5, 8, 4, 9, 9, 5, 8, 3, 0, 3, 7, 1, 5, 9, 5, 5, 8, 3, 5, 7, 8, 6, 8, 2, 3, 3, 9, 0, 7, 6, 4, 5, 8, 9, 6, 2, 9, 3, 1, 9, 7, 3, 5, 7, 4, 2, 5, 1, 0, 9, 5, 8, 9, 7, 9, 0, 8, 3, 2, 3, 1, 3, 8, 0, 8, 1, 2, 5, 3, 3, 1, 7, 0, 6, 2, 6, 4, 9, 9, 6, 6, 8, 2, 2, 4, 5, 6, 3, 2, 2, 5, 5, 3, 5, 7, 7, 6, 7, 2, 5, 3, 4, 1, 5, 2, 1, 8, 4, 0, 6, 5, 9, 4, 1, 4, 5, 7, 3, 2, 6, 9, 6, 6, 7, 2, 4, 0, 3, 3, 1, 4, 3, 6, 1, 8, 6, 8, 6, 0, 9, 6, 4, 3, 4, 3, 6, 9, 1, 4, 8, 5, 6, 8, 7, 5, 7, 5, 1, 3, 0, 3, 2, 5, 9, 8, 5, 8, 8, 5, 2, 8, 5, 8, 1, 5, 5, 9, 8, 7, 0, 6, 1, 5, 9, 0, 4, 1, 0, 6, 9, 4, 0, 3, 3, 8, 8, 5, 9, 8, 7, 6, 6, 5, 9, 9, 0, 6, 8, 6, 9, 3, 0, 5, 5, 4, 6, 1, 5, 2, 2, 6, 1, 9, 7, 7, 8, 9, 0, 7, 6, 5, 6, 4, 6, 7, 3, 9, 4, 2, 9, 5, 9, 0, 8, 1, 1, 2, 5, 4, 8, 1, 4, 7, 3, 1, 6, 0, 6, 8, 2, 8, 4, 5, 6, 0, 9, 2, 3, 2, 4, 8, 0, 6, 9, 1, 2, 4, 3, 3, 6, 2, 2, 7, 4, 5, 9, 3, 9, 6, 6, 0, 1, 4, 0, 7, 5, 7, 9, 0, 8, 7, 9, 3, 9, 0, 4, 4, 4, 3, 1, 9, 6, 5, 8, 5, 2, 0, 1, 7, 4, 7, 3, 8, 4, 4, 7, 3, 8, 3, 3, 0, 2, 0, 0, 9, 0, 9, 8, 0, 1, 2, 2, 5, 9, 9, 2, 9, 1, 5, 4, 0, 3, 0, 5, 7, 0, 5, 8, 9, 3, 6, 9, 6, 7, 0, 8, 4, 5, 7, 6, 4, 5, 0, 2, 7, 5, 7, 5, 7, 4, 8, 2, 6, 8, 8, 0, 5, 2, 1, 0, 8, 2, 8, 6, 9, 7, 7, 2, 1, 1, 9, 1, 5, 5, 6, 2, 9, 8, 8, 5, 8, 2, 9, 0, 3, 1, 4, 0, 2, 4, 6, 9, 9, 5, 3, 6, 5, 2, 0, 9, 0, 6, 1, 6, 1, 0, 7, 5, 1, 5, 3, 2, 1, 6, 6, 7, 8, 6, 6, 2, 8, 8, 6, 1, 7, 2, 8, 7, 3, 6, 2, 6, 6, 6, 5, 1, 9, 2, 1, 8, 4, 8, 7, 7, 0, 4, 7, 1, 6, 6, 3, 7, 9, 0, 9, 8, 2, 4, 2, 7, 5, 6, 0, 7, 4, 0, 3, 1, 8, 6, 5, 6, 0, 4, 6, 4, 8, 9, 5, 2, 6, 2, 3, 4, 7, 0, 8, 9, 7, 7, 6, 5, 6, 3, 1, 2, 8, 2, 7, 2, 2, 4, 7, 0, 2, 1, 7, 2, 8, 6, 5, 3, 0, 0, 9, 8, 9, 5, 2, 8, 2, 3, 0, 0, 3, 0, 3, 2, 7, 0, 9, 8, 3, 5, 5, 4, 1, 1, 9, 7, 1, 3, 8, 4, 2, 7, 4, 4, 4, 4, 9, 1, 4, 0, 7, 8, 3, 8, 9, 0, 2, 0, 6, 4, 3, 1, 7, 2, 9, 5, 1, 2, 1, 2, 6, 8, 2, 5, 4, 7, 8, 9, 1, 5, 7, 3, 7, 0, 3, 6, 5, 8, 0, 8, 5, 4, 8, 1, 0, 8, 5, 9, 6, 7, 4, 7, 1, 9, 6, 3, 3, 8, 1, 8, 0, 1, 8, 7, 4, 0, 8, 3, 0, 2, 5, 3, 9, 1, 0, 7, 9, 1, 2, 8, 4, 0, 1, 1, 6, 8, 8, 1, 3, 0, 1, 4, 7, 4, 1, 7, 6, 1, 3, 5]\n"
     ]
    }
   ],
   "source": [
    "print(y_pred_final)"
   ]
  },
  {
   "cell_type": "code",
   "execution_count": 25,
   "id": "3d6ee58d",
   "metadata": {
    "execution": {
     "iopub.execute_input": "2023-10-31T13:52:30.877128Z",
     "iopub.status.busy": "2023-10-31T13:52:30.876716Z",
     "iopub.status.idle": "2023-10-31T13:52:30.880636Z",
     "shell.execute_reply": "2023-10-31T13:52:30.879864Z"
    },
    "id": "t7HivkBUBeri",
    "papermill": {
     "duration": 0.29641,
     "end_time": "2023-10-31T13:52:30.882540",
     "exception": false,
     "start_time": "2023-10-31T13:52:30.586130",
     "status": "completed"
    },
    "tags": []
   },
   "outputs": [],
   "source": [
    "#ground_truth=pd.read_csv('ground_truth.csv')"
   ]
  },
  {
   "cell_type": "code",
   "execution_count": 26,
   "id": "6184d3e2",
   "metadata": {
    "execution": {
     "iopub.execute_input": "2023-10-31T13:52:31.468095Z",
     "iopub.status.busy": "2023-10-31T13:52:31.467145Z",
     "iopub.status.idle": "2023-10-31T13:52:31.471524Z",
     "shell.execute_reply": "2023-10-31T13:52:31.470767Z"
    },
    "id": "bFBoxczxBw2g",
    "papermill": {
     "duration": 0.301703,
     "end_time": "2023-10-31T13:52:31.473470",
     "exception": false,
     "start_time": "2023-10-31T13:52:31.171767",
     "status": "completed"
    },
    "tags": []
   },
   "outputs": [],
   "source": [
    "#true_values=ground_truth['label']"
   ]
  },
  {
   "cell_type": "code",
   "execution_count": 27,
   "id": "685b65b7",
   "metadata": {
    "execution": {
     "iopub.execute_input": "2023-10-31T13:52:32.052707Z",
     "iopub.status.busy": "2023-10-31T13:52:32.051904Z",
     "iopub.status.idle": "2023-10-31T13:52:32.056132Z",
     "shell.execute_reply": "2023-10-31T13:52:32.055248Z"
    },
    "id": "d9xkpHMsByVg",
    "outputId": "88c8db9a-f739-4f0c-b4e5-de4f94e15368",
    "papermill": {
     "duration": 0.296396,
     "end_time": "2023-10-31T13:52:32.058308",
     "exception": false,
     "start_time": "2023-10-31T13:52:31.761912",
     "status": "completed"
    },
    "tags": []
   },
   "outputs": [],
   "source": [
    "#print(accuracy_score(true_values,y_pred_final))"
   ]
  },
  {
   "cell_type": "code",
   "execution_count": 28,
   "id": "40bc86fc",
   "metadata": {
    "execution": {
     "iopub.execute_input": "2023-10-31T13:52:32.641452Z",
     "iopub.status.busy": "2023-10-31T13:52:32.640731Z",
     "iopub.status.idle": "2023-10-31T13:52:32.645249Z",
     "shell.execute_reply": "2023-10-31T13:52:32.644414Z"
    },
    "id": "KRk-h8GXFXuX",
    "papermill": {
     "duration": 0.298366,
     "end_time": "2023-10-31T13:52:32.647440",
     "exception": false,
     "start_time": "2023-10-31T13:52:32.349074",
     "status": "completed"
    },
    "tags": []
   },
   "outputs": [],
   "source": [
    "id = test_data[\"id\"]"
   ]
  },
  {
   "cell_type": "code",
   "execution_count": 29,
   "id": "3e43c692",
   "metadata": {
    "execution": {
     "iopub.execute_input": "2023-10-31T13:52:33.310043Z",
     "iopub.status.busy": "2023-10-31T13:52:33.309282Z",
     "iopub.status.idle": "2023-10-31T13:52:33.313478Z",
     "shell.execute_reply": "2023-10-31T13:52:33.312677Z"
    },
    "id": "KJFhBcyhFaLZ",
    "papermill": {
     "duration": 0.378024,
     "end_time": "2023-10-31T13:52:33.315593",
     "exception": false,
     "start_time": "2023-10-31T13:52:32.937569",
     "status": "completed"
    },
    "tags": []
   },
   "outputs": [],
   "source": [
    "predictions = y_pred_final"
   ]
  },
  {
   "cell_type": "markdown",
   "id": "8142d81a",
   "metadata": {
    "id": "4tzZf5Q5G0AA",
    "papermill": {
     "duration": 0.288355,
     "end_time": "2023-10-31T13:52:33.893621",
     "exception": false,
     "start_time": "2023-10-31T13:52:33.605266",
     "status": "completed"
    },
    "tags": []
   },
   "source": [
    "# Submission"
   ]
  },
  {
   "cell_type": "code",
   "execution_count": 30,
   "id": "155f3b26",
   "metadata": {
    "execution": {
     "iopub.execute_input": "2023-10-31T13:52:34.478282Z",
     "iopub.status.busy": "2023-10-31T13:52:34.477539Z",
     "iopub.status.idle": "2023-10-31T13:52:34.489283Z",
     "shell.execute_reply": "2023-10-31T13:52:34.488321Z"
    },
    "id": "vZFVCyMgB2Rg",
    "papermill": {
     "duration": 0.309952,
     "end_time": "2023-10-31T13:52:34.491919",
     "exception": false,
     "start_time": "2023-10-31T13:52:34.181967",
     "status": "completed"
    },
    "tags": []
   },
   "outputs": [],
   "source": [
    "submission_df = pd.DataFrame({'id': id,  'label': predictions})"
   ]
  },
  {
   "cell_type": "code",
   "execution_count": 31,
   "id": "ed671f2b",
   "metadata": {
    "execution": {
     "iopub.execute_input": "2023-10-31T13:52:35.070650Z",
     "iopub.status.busy": "2023-10-31T13:52:35.070210Z",
     "iopub.status.idle": "2023-10-31T13:52:35.080572Z",
     "shell.execute_reply": "2023-10-31T13:52:35.079609Z"
    },
    "id": "L5bfC_qAFXRN",
    "papermill": {
     "duration": 0.304209,
     "end_time": "2023-10-31T13:52:35.082835",
     "exception": false,
     "start_time": "2023-10-31T13:52:34.778626",
     "status": "completed"
    },
    "tags": []
   },
   "outputs": [],
   "source": [
    "submission_df.to_csv('music_genre_predictions.csv', index=False)"
   ]
  },
  {
   "cell_type": "code",
   "execution_count": 32,
   "id": "7934b258",
   "metadata": {
    "execution": {
     "iopub.execute_input": "2023-10-31T13:52:35.662195Z",
     "iopub.status.busy": "2023-10-31T13:52:35.661467Z",
     "iopub.status.idle": "2023-10-31T13:52:35.670430Z",
     "shell.execute_reply": "2023-10-31T13:52:35.669631Z"
    },
    "id": "T-U-CdAkKZXR",
    "outputId": "71a8dcb8-0cc6-4ced-aaf8-84d2c73c65dd",
    "papermill": {
     "duration": 0.300228,
     "end_time": "2023-10-31T13:52:35.672474",
     "exception": false,
     "start_time": "2023-10-31T13:52:35.372246",
     "status": "completed"
    },
    "tags": []
   },
   "outputs": [
    {
     "data": {
      "text/html": [
       "<div>\n",
       "<style scoped>\n",
       "    .dataframe tbody tr th:only-of-type {\n",
       "        vertical-align: middle;\n",
       "    }\n",
       "\n",
       "    .dataframe tbody tr th {\n",
       "        vertical-align: top;\n",
       "    }\n",
       "\n",
       "    .dataframe thead th {\n",
       "        text-align: right;\n",
       "    }\n",
       "</style>\n",
       "<table border=\"1\" class=\"dataframe\">\n",
       "  <thead>\n",
       "    <tr style=\"text-align: right;\">\n",
       "      <th></th>\n",
       "      <th>id</th>\n",
       "      <th>label</th>\n",
       "    </tr>\n",
       "  </thead>\n",
       "  <tbody>\n",
       "    <tr>\n",
       "      <th>0</th>\n",
       "      <td>9586</td>\n",
       "      <td>9</td>\n",
       "    </tr>\n",
       "    <tr>\n",
       "      <th>1</th>\n",
       "      <td>6984</td>\n",
       "      <td>6</td>\n",
       "    </tr>\n",
       "    <tr>\n",
       "      <th>2</th>\n",
       "      <td>7047</td>\n",
       "      <td>7</td>\n",
       "    </tr>\n",
       "    <tr>\n",
       "      <th>3</th>\n",
       "      <td>2510</td>\n",
       "      <td>2</td>\n",
       "    </tr>\n",
       "    <tr>\n",
       "      <th>4</th>\n",
       "      <td>34</td>\n",
       "      <td>0</td>\n",
       "    </tr>\n",
       "  </tbody>\n",
       "</table>\n",
       "</div>"
      ],
      "text/plain": [
       "     id  label\n",
       "0  9586      9\n",
       "1  6984      6\n",
       "2  7047      7\n",
       "3  2510      2\n",
       "4    34      0"
      ]
     },
     "execution_count": 32,
     "metadata": {},
     "output_type": "execute_result"
    }
   ],
   "source": [
    "submission_df.head()"
   ]
  },
  {
   "cell_type": "markdown",
   "id": "02bb8f25",
   "metadata": {
    "id": "Y6__nduHN6fn",
    "papermill": {
     "duration": 0.288775,
     "end_time": "2023-10-31T13:52:36.250403",
     "exception": false,
     "start_time": "2023-10-31T13:52:35.961628",
     "status": "completed"
    },
    "tags": []
   },
   "source": [
    "# Verification\n"
   ]
  },
  {
   "cell_type": "code",
   "execution_count": 33,
   "id": "05a12346",
   "metadata": {
    "execution": {
     "iopub.execute_input": "2023-10-31T13:52:36.835117Z",
     "iopub.status.busy": "2023-10-31T13:52:36.834407Z",
     "iopub.status.idle": "2023-10-31T13:52:36.838798Z",
     "shell.execute_reply": "2023-10-31T13:52:36.837638Z"
    },
    "id": "9moXBkG3FvtX",
    "papermill": {
     "duration": 0.300275,
     "end_time": "2023-10-31T13:52:36.841054",
     "exception": false,
     "start_time": "2023-10-31T13:52:36.540779",
     "status": "completed"
    },
    "tags": []
   },
   "outputs": [],
   "source": [
    "#sub = pd.read_csv(\"music_genre_predictions.csv\")"
   ]
  },
  {
   "cell_type": "code",
   "execution_count": 34,
   "id": "83be0a32",
   "metadata": {
    "execution": {
     "iopub.execute_input": "2023-10-31T13:52:37.417400Z",
     "iopub.status.busy": "2023-10-31T13:52:37.416671Z",
     "iopub.status.idle": "2023-10-31T13:52:37.420759Z",
     "shell.execute_reply": "2023-10-31T13:52:37.419823Z"
    },
    "id": "QAsSEhoRFtiH",
    "outputId": "50a0703d-20c4-4ef8-f210-ca76fe07d5d9",
    "papermill": {
     "duration": 0.294155,
     "end_time": "2023-10-31T13:52:37.422747",
     "exception": false,
     "start_time": "2023-10-31T13:52:37.128592",
     "status": "completed"
    },
    "tags": []
   },
   "outputs": [],
   "source": [
    "#print(accuracy_score(true_values,sub[\"label\"]))"
   ]
  }
 ],
 "metadata": {
  "kernelspec": {
   "display_name": "Python 3",
   "language": "python",
   "name": "python3"
  },
  "language_info": {
   "codemirror_mode": {
    "name": "ipython",
    "version": 3
   },
   "file_extension": ".py",
   "mimetype": "text/x-python",
   "name": "python",
   "nbconvert_exporter": "python",
   "pygments_lexer": "ipython3",
   "version": "3.10.12"
  },
  "papermill": {
   "default_parameters": {},
   "duration": 186.759526,
   "end_time": "2023-10-31T13:52:40.109132",
   "environment_variables": {},
   "exception": null,
   "input_path": "__notebook__.ipynb",
   "output_path": "__notebook__.ipynb",
   "parameters": {},
   "start_time": "2023-10-31T13:49:33.349606",
   "version": "2.4.0"
  }
 },
 "nbformat": 4,
 "nbformat_minor": 5
}
